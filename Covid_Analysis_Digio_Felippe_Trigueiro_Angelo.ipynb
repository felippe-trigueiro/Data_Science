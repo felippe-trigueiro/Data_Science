{
  "nbformat": 4,
  "nbformat_minor": 0,
  "metadata": {
    "colab": {
      "name": "Covid_Analysis_Digio_Felippe_Trigueiro_Angelo",
      "provenance": [],
      "collapsed_sections": [],
      "authorship_tag": "ABX9TyPqQIN2DN34HVf5gHdJIMcx",
      "include_colab_link": true
    },
    "kernelspec": {
      "name": "python3",
      "display_name": "Python 3"
    }
  },
  "cells": [
    {
      "cell_type": "markdown",
      "metadata": {
        "id": "view-in-github",
        "colab_type": "text"
      },
      "source": [
        "<a href=\"https://colab.research.google.com/github/felippe-trigueiro/Data_Science/blob/master/Covid_Analysis_Digio_Felippe_Trigueiro_Angelo.ipynb\" target=\"_parent\"><img src=\"https://colab.research.google.com/assets/colab-badge.svg\" alt=\"Open In Colab\"/></a>"
      ]
    },
    {
      "cell_type": "markdown",
      "metadata": {
        "id": "j9Tef-3Vh1-1",
        "colab_type": "text"
      },
      "source": [
        "# **Análise dos Dados da Covid19**"
      ]
    },
    {
      "cell_type": "markdown",
      "metadata": {
        "id": "vjMkTl5pyyS2",
        "colab_type": "text"
      },
      "source": [
        "**Autor:** Felippe Trigueiro Angelo\n",
        "\n",
        "**Email:** trigueiro.angelo@outlook.com\n",
        "\n"
      ]
    },
    {
      "cell_type": "markdown",
      "metadata": {
        "id": "3EBHl4D1zB-m",
        "colab_type": "text"
      },
      "source": [
        "## **Introdução**"
      ]
    },
    {
      "cell_type": "markdown",
      "metadata": {
        "id": "8L7kbuXVkhKO",
        "colab_type": "text"
      },
      "source": [
        "Será feita uma análise sobre os dados da Covid19 utilizando o dataset fornecido pelo data.world e que está disponível [neste link](https://data.world/covid-19-data-resource-hub/covid-19-case-counts). Esses dados correspondem a um conjunto de séries temporais correspondentes aos números de casos e mortes em vários países do mundo. Os dados foram obtidos do The New York Times, the European Centre for Disease Prevention and Control e Public Health Agency of Canada."
      ]
    },
    {
      "cell_type": "code",
      "metadata": {
        "id": "RGX3Qllr_yVF",
        "colab_type": "code",
        "colab": {}
      },
      "source": [
        "import numpy as np\n",
        "import pandas as pd\n",
        "import matplotlib.pyplot as plt\n",
        "from datetime import datetime, timedelta\n",
        "from scipy.optimize import curve_fit"
      ],
      "execution_count": 128,
      "outputs": []
    },
    {
      "cell_type": "markdown",
      "metadata": {
        "id": "464o5Ys3pWXv",
        "colab_type": "text"
      },
      "source": [
        "Primeiramente os arquivos referentes as bases de dados serão carregados em um DataFrame."
      ]
    },
    {
      "cell_type": "code",
      "metadata": {
        "id": "WVJpC4JNCFxh",
        "colab_type": "code",
        "colab": {
          "base_uri": "https://localhost:8080/",
          "height": 72
        },
        "outputId": "9146d781-e1e6-4b8f-fffd-eaa186933877"
      },
      "source": [
        "covid_activity_path = '/content/Covid_Dataset/COVID-19 Activity.csv'\n",
        "covid_cases_path = '/content/Covid_Dataset/COVID-19 Cases.csv'\n",
        "\n",
        "covid_activity_dataset = pd.read_csv(covid_activity_path)\n",
        "covid_cases_dataset = pd.read_csv(covid_cases_path)"
      ],
      "execution_count": 129,
      "outputs": [
        {
          "output_type": "stream",
          "text": [
            "/usr/local/lib/python3.6/dist-packages/IPython/core/interactiveshell.py:2718: DtypeWarning: Columns (8) have mixed types.Specify dtype option on import or set low_memory=False.\n",
            "  interactivity=interactivity, compiler=compiler, result=result)\n"
          ],
          "name": "stderr"
        }
      ]
    },
    {
      "cell_type": "markdown",
      "metadata": {
        "id": "et-Qi9Mgp0SD",
        "colab_type": "text"
      },
      "source": [
        "## **Análise inicial dos dados fornecidos**"
      ]
    },
    {
      "cell_type": "markdown",
      "metadata": {
        "id": "UUvEX7GKp_pf",
        "colab_type": "text"
      },
      "source": [
        "Foram fornecidos duas tabelas, a COVID-19 activity e a COVID-19 cases. Vamos analisar inicialmente a tabela Covid Cases."
      ]
    },
    {
      "cell_type": "markdown",
      "metadata": {
        "id": "tEJuvxg5p6Mn",
        "colab_type": "text"
      },
      "source": [
        "### **Covid cases**"
      ]
    },
    {
      "cell_type": "code",
      "metadata": {
        "id": "DslLvf6tHC3o",
        "colab_type": "code",
        "colab": {
          "base_uri": "https://localhost:8080/",
          "height": 574
        },
        "outputId": "9ee795c9-56de-4964-bcb5-a859b4af4e1f"
      },
      "source": [
        "covid_cases_dataset.head()"
      ],
      "execution_count": 130,
      "outputs": [
        {
          "output_type": "execute_result",
          "data": {
            "text/html": [
              "<div>\n",
              "<style scoped>\n",
              "    .dataframe tbody tr th:only-of-type {\n",
              "        vertical-align: middle;\n",
              "    }\n",
              "\n",
              "    .dataframe tbody tr th {\n",
              "        vertical-align: top;\n",
              "    }\n",
              "\n",
              "    .dataframe thead th {\n",
              "        text-align: right;\n",
              "    }\n",
              "</style>\n",
              "<table border=\"1\" class=\"dataframe\">\n",
              "  <thead>\n",
              "    <tr style=\"text-align: right;\">\n",
              "      <th></th>\n",
              "      <th>Case_Type</th>\n",
              "      <th>People_Total_Tested_Count</th>\n",
              "      <th>Cases</th>\n",
              "      <th>Difference</th>\n",
              "      <th>Date</th>\n",
              "      <th>Combined_Key</th>\n",
              "      <th>Country_Region</th>\n",
              "      <th>Province_State</th>\n",
              "      <th>Admin2</th>\n",
              "      <th>iso2</th>\n",
              "      <th>iso3</th>\n",
              "      <th>FIPS</th>\n",
              "      <th>Lat</th>\n",
              "      <th>Long</th>\n",
              "      <th>Population_Count</th>\n",
              "      <th>People_Hospitalized_Cumulative_Count</th>\n",
              "      <th>Data_Source</th>\n",
              "      <th>Prep_Flow_Runtime</th>\n",
              "    </tr>\n",
              "  </thead>\n",
              "  <tbody>\n",
              "    <tr>\n",
              "      <th>0</th>\n",
              "      <td>Confirmed</td>\n",
              "      <td>NaN</td>\n",
              "      <td>6</td>\n",
              "      <td>0</td>\n",
              "      <td>5/22/2020</td>\n",
              "      <td>Western Sahara</td>\n",
              "      <td>Western Sahara</td>\n",
              "      <td>NaN</td>\n",
              "      <td>NaN</td>\n",
              "      <td>EH</td>\n",
              "      <td>ESH</td>\n",
              "      <td>NaN</td>\n",
              "      <td>24.215500</td>\n",
              "      <td>-12.885800</td>\n",
              "      <td>597330.0</td>\n",
              "      <td>NaN</td>\n",
              "      <td>2019 Novel Coronavirus COVID-19 (2019-nCoV) Da...</td>\n",
              "      <td>6/4/2020 11:15:39 PM</td>\n",
              "    </tr>\n",
              "    <tr>\n",
              "      <th>1</th>\n",
              "      <td>Confirmed</td>\n",
              "      <td>NaN</td>\n",
              "      <td>0</td>\n",
              "      <td>0</td>\n",
              "      <td>2/3/2020</td>\n",
              "      <td>Switzerland</td>\n",
              "      <td>Switzerland</td>\n",
              "      <td>NaN</td>\n",
              "      <td>NaN</td>\n",
              "      <td>CH</td>\n",
              "      <td>CHE</td>\n",
              "      <td>NaN</td>\n",
              "      <td>46.818200</td>\n",
              "      <td>8.227500</td>\n",
              "      <td>8654618.0</td>\n",
              "      <td>NaN</td>\n",
              "      <td>2019 Novel Coronavirus COVID-19 (2019-nCoV) Da...</td>\n",
              "      <td>6/4/2020 11:15:39 PM</td>\n",
              "    </tr>\n",
              "    <tr>\n",
              "      <th>2</th>\n",
              "      <td>Deaths</td>\n",
              "      <td>NaN</td>\n",
              "      <td>0</td>\n",
              "      <td>0</td>\n",
              "      <td>3/1/2020</td>\n",
              "      <td>Cyprus</td>\n",
              "      <td>Cyprus</td>\n",
              "      <td>NaN</td>\n",
              "      <td>NaN</td>\n",
              "      <td>CY</td>\n",
              "      <td>CYP</td>\n",
              "      <td>NaN</td>\n",
              "      <td>35.126400</td>\n",
              "      <td>33.429900</td>\n",
              "      <td>1207361.0</td>\n",
              "      <td>NaN</td>\n",
              "      <td>2019 Novel Coronavirus COVID-19 (2019-nCoV) Da...</td>\n",
              "      <td>6/4/2020 11:15:39 PM</td>\n",
              "    </tr>\n",
              "    <tr>\n",
              "      <th>3</th>\n",
              "      <td>Confirmed</td>\n",
              "      <td>NaN</td>\n",
              "      <td>23</td>\n",
              "      <td>0</td>\n",
              "      <td>4/21/2020</td>\n",
              "      <td>Antigua and Barbuda</td>\n",
              "      <td>Antigua and Barbuda</td>\n",
              "      <td>NaN</td>\n",
              "      <td>NaN</td>\n",
              "      <td>AG</td>\n",
              "      <td>ATG</td>\n",
              "      <td>NaN</td>\n",
              "      <td>17.060800</td>\n",
              "      <td>-61.796400</td>\n",
              "      <td>97928.0</td>\n",
              "      <td>NaN</td>\n",
              "      <td>2019 Novel Coronavirus COVID-19 (2019-nCoV) Da...</td>\n",
              "      <td>6/4/2020 11:15:39 PM</td>\n",
              "    </tr>\n",
              "    <tr>\n",
              "      <th>4</th>\n",
              "      <td>Deaths</td>\n",
              "      <td>NaN</td>\n",
              "      <td>56</td>\n",
              "      <td>0</td>\n",
              "      <td>5/11/2020</td>\n",
              "      <td>Thailand</td>\n",
              "      <td>Thailand</td>\n",
              "      <td>NaN</td>\n",
              "      <td>NaN</td>\n",
              "      <td>TH</td>\n",
              "      <td>THA</td>\n",
              "      <td>NaN</td>\n",
              "      <td>15.870032</td>\n",
              "      <td>100.992541</td>\n",
              "      <td>69799978.0</td>\n",
              "      <td>NaN</td>\n",
              "      <td>2019 Novel Coronavirus COVID-19 (2019-nCoV) Da...</td>\n",
              "      <td>6/4/2020 11:15:39 PM</td>\n",
              "    </tr>\n",
              "  </tbody>\n",
              "</table>\n",
              "</div>"
            ],
            "text/plain": [
              "   Case_Type  ...     Prep_Flow_Runtime\n",
              "0  Confirmed  ...  6/4/2020 11:15:39 PM\n",
              "1  Confirmed  ...  6/4/2020 11:15:39 PM\n",
              "2     Deaths  ...  6/4/2020 11:15:39 PM\n",
              "3  Confirmed  ...  6/4/2020 11:15:39 PM\n",
              "4     Deaths  ...  6/4/2020 11:15:39 PM\n",
              "\n",
              "[5 rows x 18 columns]"
            ]
          },
          "metadata": {
            "tags": []
          },
          "execution_count": 130
        }
      ]
    },
    {
      "cell_type": "code",
      "metadata": {
        "id": "sV5iUHSEfBgZ",
        "colab_type": "code",
        "colab": {
          "base_uri": "https://localhost:8080/",
          "height": 34
        },
        "outputId": "b30693d3-5be5-4f45-f08e-999d98839835"
      },
      "source": [
        "covid_cases_dataset.shape"
      ],
      "execution_count": 131,
      "outputs": [
        {
          "output_type": "execute_result",
          "data": {
            "text/plain": [
              "(950670, 18)"
            ]
          },
          "metadata": {
            "tags": []
          },
          "execution_count": 131
        }
      ]
    },
    {
      "cell_type": "code",
      "metadata": {
        "id": "NbKIsCmFe1tJ",
        "colab_type": "code",
        "colab": {
          "base_uri": "https://localhost:8080/",
          "height": 451
        },
        "outputId": "0f4c21dd-6308-4aa8-840f-90d0ccc20305"
      },
      "source": [
        "covid_cases_dataset.info()"
      ],
      "execution_count": 132,
      "outputs": [
        {
          "output_type": "stream",
          "text": [
            "<class 'pandas.core.frame.DataFrame'>\n",
            "RangeIndex: 950670 entries, 0 to 950669\n",
            "Data columns (total 18 columns):\n",
            " #   Column                                Non-Null Count   Dtype  \n",
            "---  ------                                --------------   -----  \n",
            " 0   Case_Type                             950670 non-null  object \n",
            " 1   People_Total_Tested_Count             6048 non-null    float64\n",
            " 2   Cases                                 950670 non-null  int64  \n",
            " 3   Difference                            950670 non-null  int64  \n",
            " 4   Date                                  950670 non-null  object \n",
            " 5   Combined_Key                          950670 non-null  object \n",
            " 6   Country_Region                        950670 non-null  object \n",
            " 7   Province_State                        901260 non-null  object \n",
            " 8   Admin2                                878580 non-null  object \n",
            " 9   iso2                                  949590 non-null  object \n",
            " 10  iso3                                  949860 non-null  object \n",
            " 11  FIPS                                  849690 non-null  float64\n",
            " 12  Lat                                   921780 non-null  float64\n",
            " 13  Long                                  921780 non-null  float64\n",
            " 14  Population_Count                      921780 non-null  float64\n",
            " 15  People_Hospitalized_Cumulative_Count  6048 non-null    float64\n",
            " 16  Data_Source                           950670 non-null  object \n",
            " 17  Prep_Flow_Runtime                     950670 non-null  object \n",
            "dtypes: float64(6), int64(2), object(10)\n",
            "memory usage: 130.6+ MB\n"
          ],
          "name": "stdout"
        }
      ]
    },
    {
      "cell_type": "code",
      "metadata": {
        "colab_type": "code",
        "id": "lM-bWIA6pYRT",
        "colab": {
          "base_uri": "https://localhost:8080/",
          "height": 191
        },
        "outputId": "aa40ee35-3f39-44a2-8c93-eda3592664b9"
      },
      "source": [
        "#As features que possuem dados faltantes são colocadas como True, o restante como False.\n",
        "covid_cases_have_misvalue = covid_cases_dataset.isna().sum() > 0\n",
        "covid_cases_features_misvalue = list(covid_cases_dataset.iloc[:, covid_cases_have_misvalue.values].columns)\n",
        "covid_cases_features_misvalue"
      ],
      "execution_count": 133,
      "outputs": [
        {
          "output_type": "execute_result",
          "data": {
            "text/plain": [
              "['People_Total_Tested_Count',\n",
              " 'Province_State',\n",
              " 'Admin2',\n",
              " 'iso2',\n",
              " 'iso3',\n",
              " 'FIPS',\n",
              " 'Lat',\n",
              " 'Long',\n",
              " 'Population_Count',\n",
              " 'People_Hospitalized_Cumulative_Count']"
            ]
          },
          "metadata": {
            "tags": []
          },
          "execution_count": 133
        }
      ]
    },
    {
      "cell_type": "code",
      "metadata": {
        "id": "WzWDZzQdh51r",
        "colab_type": "code",
        "colab": {
          "base_uri": "https://localhost:8080/",
          "height": 52
        },
        "outputId": "d7a5e6ad-8599-45b5-e574-b4194cc966a7"
      },
      "source": [
        "covid_cases_dataset.Date = pd.to_datetime(covid_cases_dataset.Date)\n",
        "\n",
        "covid_cases_first_date = np.unique(covid_cases_dataset['Date'].sort_values(ascending=True))[0]\n",
        "covid_cases_last_date = np.unique(covid_cases_dataset['Date'].sort_values(ascending=True))[-1]\n",
        "\n",
        "print(\"Primeira data de coleta dos dados no Dataset Covid_Cases (Formato M/D/A): \" + str(covid_cases_first_date))\n",
        "print(\"Última data de coleta dos dados no Dataset Covid_Cases (Formato M/D/A): \" + str(covid_cases_last_date))"
      ],
      "execution_count": 134,
      "outputs": [
        {
          "output_type": "stream",
          "text": [
            "Primeira data de coleta dos dados no Dataset Covid_Cases (Formato M/D/A): 2020-01-22T00:00:00.000000000\n",
            "Última data de coleta dos dados no Dataset Covid_Cases (Formato M/D/A): 2020-06-04T00:00:00.000000000\n"
          ],
          "name": "stdout"
        }
      ]
    },
    {
      "cell_type": "code",
      "metadata": {
        "id": "0ngX3rGmCrCI",
        "colab_type": "code",
        "colab": {}
      },
      "source": [
        "covid_cases_dataset.sort_values('Date', inplace=True, ascending=True)"
      ],
      "execution_count": 135,
      "outputs": []
    },
    {
      "cell_type": "markdown",
      "metadata": {
        "colab_type": "text",
        "id": "kqvIVurmpERE"
      },
      "source": [
        "#### **Comentários**\n",
        "\n",
        "A partir da análise dos comandos acima podemos constatar algumas informações importantes:\n",
        "\n",
        "1. A tabela contém 18 features e 950670 registros de entrada;\n",
        "2. Existem 10 features contém dados faltantes. São elas:\n",
        "  *   People_Total_Tested_Count\n",
        "  *   Province_State\n",
        "  *   Admin2\n",
        "  *   iso2\n",
        "  *   iso3\n",
        "  *   FIPS\n",
        "  *   Lat\n",
        "  *   Long\n",
        "  *   Population_Count\n",
        "  *   People_Hospitalized_Cumulative_Count\n",
        "3. Segundo a [descrição das Features](https://data.world/covid-19-data-resource-hub/covid-19-case-counts/workspace/data-dictionary), as Features admin2 e fips estão disponíveis apenas para os municípios dos Estados Unidos. A Feature province_state está disponíível apenas para Australia, Canadá, China, Dinamarca, França, Holanda, Reino Unido e Estados Unidos;\n",
        "4. Existem 4 Features que representam informações similares, neste caso o país. Assim todas essas Features podem ser substituídas apenas por uma delas. As Features em questão são:\n",
        "  *    Combined_Key\n",
        "  *    Country_Region\n",
        "  *    iso2\n",
        "  *    iso3\n",
        "5. As data em que os dados foram coletados está compreendida entre 22/1/2020 e 4/6/2020 (Formato Brasileiro).\n"
      ]
    },
    {
      "cell_type": "markdown",
      "metadata": {
        "id": "BiMGc45M4VRb",
        "colab_type": "text"
      },
      "source": [
        "### **Covid Activity**"
      ]
    },
    {
      "cell_type": "markdown",
      "metadata": {
        "id": "-ROCbqvt4e8J",
        "colab_type": "text"
      },
      "source": [
        "Nesta seção serão apresentadas informações gerais sobre essa tabela, com a finalidade de entender informações como:\n",
        "\n",
        "1. A forma como os dados estão estruturados;\n",
        "2. Número de entradas da tabela;\n",
        "3. Quantidade de Features da tabela;\n",
        "4. Quantidade de dados faltantes da tabela.\n",
        "\n",
        "Para uma descrição detalhada do significado de cada uma das features, favor visitar [a página do data.world](https://data.world/covid-19-data-resource-hub/covid-19-case-counts/workspace/data-dictionary). Entretanto, ao longo deste notebook, as features mais importantes serão descritas com mais detalhes."
      ]
    },
    {
      "cell_type": "code",
      "metadata": {
        "id": "xo5pcl9SD9hO",
        "colab_type": "code",
        "colab": {
          "base_uri": "https://localhost:8080/",
          "height": 313
        },
        "outputId": "d5e5d00c-94f4-4dab-a612-bd53151b98c7"
      },
      "source": [
        "covid_activity_dataset.head()"
      ],
      "execution_count": 136,
      "outputs": [
        {
          "output_type": "execute_result",
          "data": {
            "text/html": [
              "<div>\n",
              "<style scoped>\n",
              "    .dataframe tbody tr th:only-of-type {\n",
              "        vertical-align: middle;\n",
              "    }\n",
              "\n",
              "    .dataframe tbody tr th {\n",
              "        vertical-align: top;\n",
              "    }\n",
              "\n",
              "    .dataframe thead th {\n",
              "        text-align: right;\n",
              "    }\n",
              "</style>\n",
              "<table border=\"1\" class=\"dataframe\">\n",
              "  <thead>\n",
              "    <tr style=\"text-align: right;\">\n",
              "      <th></th>\n",
              "      <th>COUNTY_NAME</th>\n",
              "      <th>COUNTY_FIPS_NUMBER</th>\n",
              "      <th>PEOPLE_POSITIVE_CASES_COUNT</th>\n",
              "      <th>REPORT_DATE</th>\n",
              "      <th>PROVINCE_STATE_NAME</th>\n",
              "      <th>CONTINENT_NAME</th>\n",
              "      <th>DATA_SOURCE_NAME</th>\n",
              "      <th>PEOPLE_DEATH_NEW_COUNT</th>\n",
              "      <th>COUNTRY_ALPHA_3_CODE</th>\n",
              "      <th>COUNTRY_SHORT_NAME</th>\n",
              "      <th>COUNTRY_ALPHA_2_CODE</th>\n",
              "      <th>PEOPLE_POSITIVE_NEW_CASES_COUNT</th>\n",
              "      <th>PEOPLE_DEATH_COUNT</th>\n",
              "    </tr>\n",
              "  </thead>\n",
              "  <tbody>\n",
              "    <tr>\n",
              "      <th>0</th>\n",
              "      <td>NaN</td>\n",
              "      <td>NaN</td>\n",
              "      <td>684</td>\n",
              "      <td>6/16/2020</td>\n",
              "      <td>Saskatchewan</td>\n",
              "      <td>America</td>\n",
              "      <td>Public Health Agency of Canada</td>\n",
              "      <td>0</td>\n",
              "      <td>CAN</td>\n",
              "      <td>Canada</td>\n",
              "      <td>CA</td>\n",
              "      <td>1</td>\n",
              "      <td>13</td>\n",
              "    </tr>\n",
              "    <tr>\n",
              "      <th>1</th>\n",
              "      <td>NaN</td>\n",
              "      <td>NaN</td>\n",
              "      <td>19</td>\n",
              "      <td>3/12/2020</td>\n",
              "      <td>Alberta</td>\n",
              "      <td>America</td>\n",
              "      <td>Public Health Agency of Canada</td>\n",
              "      <td>0</td>\n",
              "      <td>CAN</td>\n",
              "      <td>Canada</td>\n",
              "      <td>CA</td>\n",
              "      <td>5</td>\n",
              "      <td>0</td>\n",
              "    </tr>\n",
              "    <tr>\n",
              "      <th>2</th>\n",
              "      <td>NaN</td>\n",
              "      <td>NaN</td>\n",
              "      <td>13</td>\n",
              "      <td>4/28/2020</td>\n",
              "      <td>Repatriated travellers</td>\n",
              "      <td>America</td>\n",
              "      <td>Public Health Agency of Canada</td>\n",
              "      <td>0</td>\n",
              "      <td>CAN</td>\n",
              "      <td>Canada</td>\n",
              "      <td>CA</td>\n",
              "      <td>0</td>\n",
              "      <td>0</td>\n",
              "    </tr>\n",
              "    <tr>\n",
              "      <th>3</th>\n",
              "      <td>NaN</td>\n",
              "      <td>NaN</td>\n",
              "      <td>7482</td>\n",
              "      <td>6/16/2020</td>\n",
              "      <td>Alberta</td>\n",
              "      <td>America</td>\n",
              "      <td>Public Health Agency of Canada</td>\n",
              "      <td>0</td>\n",
              "      <td>CAN</td>\n",
              "      <td>Canada</td>\n",
              "      <td>CA</td>\n",
              "      <td>29</td>\n",
              "      <td>151</td>\n",
              "    </tr>\n",
              "    <tr>\n",
              "      <th>4</th>\n",
              "      <td>NaN</td>\n",
              "      <td>NaN</td>\n",
              "      <td>221</td>\n",
              "      <td>3/22/2020</td>\n",
              "      <td>Quebec</td>\n",
              "      <td>America</td>\n",
              "      <td>Public Health Agency of Canada</td>\n",
              "      <td>0</td>\n",
              "      <td>CAN</td>\n",
              "      <td>Canada</td>\n",
              "      <td>CA</td>\n",
              "      <td>19</td>\n",
              "      <td>4</td>\n",
              "    </tr>\n",
              "  </tbody>\n",
              "</table>\n",
              "</div>"
            ],
            "text/plain": [
              "  COUNTY_NAME  ...  PEOPLE_DEATH_COUNT\n",
              "0         NaN  ...                  13\n",
              "1         NaN  ...                   0\n",
              "2         NaN  ...                   0\n",
              "3         NaN  ...                 151\n",
              "4         NaN  ...                   4\n",
              "\n",
              "[5 rows x 13 columns]"
            ]
          },
          "metadata": {
            "tags": []
          },
          "execution_count": 136
        }
      ]
    },
    {
      "cell_type": "code",
      "metadata": {
        "id": "fWm9POWIEPZ6",
        "colab_type": "code",
        "colab": {
          "base_uri": "https://localhost:8080/",
          "height": 34
        },
        "outputId": "b6cbc2c6-7d8c-4efd-ff37-7e90a077ddaa"
      },
      "source": [
        "covid_activity_dataset.shape"
      ],
      "execution_count": 137,
      "outputs": [
        {
          "output_type": "execute_result",
          "data": {
            "text/plain": [
              "(488986, 13)"
            ]
          },
          "metadata": {
            "tags": []
          },
          "execution_count": 137
        }
      ]
    },
    {
      "cell_type": "code",
      "metadata": {
        "id": "vbN8eidOClRM",
        "colab_type": "code",
        "colab": {
          "base_uri": "https://localhost:8080/",
          "height": 364
        },
        "outputId": "613debc4-a038-4cbf-e136-42fd26b23e79"
      },
      "source": [
        "covid_activity_dataset.info()"
      ],
      "execution_count": 138,
      "outputs": [
        {
          "output_type": "stream",
          "text": [
            "<class 'pandas.core.frame.DataFrame'>\n",
            "RangeIndex: 488986 entries, 0 to 488985\n",
            "Data columns (total 13 columns):\n",
            " #   Column                           Non-Null Count   Dtype  \n",
            "---  ------                           --------------   -----  \n",
            " 0   COUNTY_NAME                      452880 non-null  object \n",
            " 1   COUNTY_FIPS_NUMBER               445776 non-null  float64\n",
            " 2   PEOPLE_POSITIVE_CASES_COUNT      488986 non-null  int64  \n",
            " 3   REPORT_DATE                      488986 non-null  object \n",
            " 4   PROVINCE_STATE_NAME              454476 non-null  object \n",
            " 5   CONTINENT_NAME                   488986 non-null  object \n",
            " 6   DATA_SOURCE_NAME                 488986 non-null  object \n",
            " 7   PEOPLE_DEATH_NEW_COUNT           488986 non-null  int64  \n",
            " 8   COUNTRY_ALPHA_3_CODE             488986 non-null  object \n",
            " 9   COUNTRY_SHORT_NAME               488986 non-null  object \n",
            " 10  COUNTRY_ALPHA_2_CODE             488816 non-null  object \n",
            " 11  PEOPLE_POSITIVE_NEW_CASES_COUNT  488986 non-null  int64  \n",
            " 12  PEOPLE_DEATH_COUNT               488986 non-null  int64  \n",
            "dtypes: float64(1), int64(4), object(8)\n",
            "memory usage: 48.5+ MB\n"
          ],
          "name": "stdout"
        }
      ]
    },
    {
      "cell_type": "code",
      "metadata": {
        "id": "D-8IR_Qp8Nb2",
        "colab_type": "code",
        "colab": {
          "base_uri": "https://localhost:8080/",
          "height": 86
        },
        "outputId": "08cdc2e8-b83b-4430-d7d6-46cc41ff590b"
      },
      "source": [
        "#As features que possuem dados faltantes são colocadas como True, o restante como False.\n",
        "covid_activity_have_misvalue = covid_activity_dataset.isna().sum() > 0\n",
        "covid_activity_features_misvalue = list(covid_activity_dataset.iloc[:, covid_activity_have_misvalue.values].columns)\n",
        "covid_activity_features_misvalue"
      ],
      "execution_count": 139,
      "outputs": [
        {
          "output_type": "execute_result",
          "data": {
            "text/plain": [
              "['COUNTY_NAME',\n",
              " 'COUNTY_FIPS_NUMBER',\n",
              " 'PROVINCE_STATE_NAME',\n",
              " 'COUNTRY_ALPHA_2_CODE']"
            ]
          },
          "metadata": {
            "tags": []
          },
          "execution_count": 139
        }
      ]
    },
    {
      "cell_type": "code",
      "metadata": {
        "id": "r0ZRePnOlNp6",
        "colab_type": "code",
        "colab": {
          "base_uri": "https://localhost:8080/",
          "height": 52
        },
        "outputId": "d7cb619e-ca7f-49a4-8cc6-ed6150edde94"
      },
      "source": [
        "covid_activity_dataset.REPORT_DATE = pd.to_datetime(covid_activity_dataset.REPORT_DATE)\n",
        "\n",
        "covid_activity_first_date = np.unique(covid_activity_dataset['REPORT_DATE'].sort_values(ascending=True))[0]\n",
        "covid_activity_last_date = np.unique(covid_activity_dataset['REPORT_DATE'].sort_values(ascending=True))[-1]\n",
        "\n",
        "print(\"Primeira data de coleta dos dados no Dataset Covid_Cases (Formato M/D/A): \" + str(covid_activity_first_date))\n",
        "print(\"Última data de coleta dos dados no Dataset Covid_Cases (Formato M/D/A): \" + str(covid_activity_last_date))"
      ],
      "execution_count": 140,
      "outputs": [
        {
          "output_type": "stream",
          "text": [
            "Primeira data de coleta dos dados no Dataset Covid_Cases (Formato M/D/A): 2019-12-31T00:00:00.000000000\n",
            "Última data de coleta dos dados no Dataset Covid_Cases (Formato M/D/A): 2020-06-17T00:00:00.000000000\n"
          ],
          "name": "stdout"
        }
      ]
    },
    {
      "cell_type": "code",
      "metadata": {
        "id": "AjIQM-j_DDnS",
        "colab_type": "code",
        "colab": {}
      },
      "source": [
        "covid_activity_dataset.sort_values('REPORT_DATE', inplace=True, ascending=True)"
      ],
      "execution_count": 141,
      "outputs": []
    },
    {
      "cell_type": "markdown",
      "metadata": {
        "id": "NRlqsVCl6pIx",
        "colab_type": "text"
      },
      "source": [
        "#### **Comentários**\n",
        "\n",
        "A partir da análise dos comandos acima podemos constatar algumas informações importantes:\n",
        "\n",
        "1. A tabela contém 13 features e 471028 registros de entrada;\n",
        "2. Existem 4 features contém dados faltantes. São elas:\n",
        "  *   County_name\n",
        "  *   County_Fips_Number\n",
        "  *   Province_State_Name\n",
        "  *   Country_Alpha_2_Code\n",
        "3. Segundo a [descrição das Features](https://data.world/covid-19-data-resource-hub/covid-19-case-counts/workspace/data-dictionary), as Features County_Name e County_Fips_Number estão disponíveis apenas para os municípios dos Estados Unidos.\n",
        "4. Existem 3 Features que representam a mesma informação, neste caso o país. Assim 2 dessas features serão possivelmente eliminadas, com a finalidade de se realizar uma vizualização mais limpa. As Features em questão são:\n",
        "  *    Country_Alpha_2_Code\n",
        "  *    Country_Alpha_3_Code\n",
        "  *    Country_Short_Name\n",
        "5. As data em que os dados foram coletados está compreendida entre 1/1/2020 e 17/6/2020 (Formato Brasileiro).\n"
      ]
    },
    {
      "cell_type": "markdown",
      "metadata": {
        "id": "8vjVnlKgK_ZT",
        "colab_type": "text"
      },
      "source": [
        "## **Análise da Covid no Brasil**"
      ]
    },
    {
      "cell_type": "markdown",
      "metadata": {
        "id": "-Q_VobwXafu2",
        "colab_type": "text"
      },
      "source": [
        "A partir desta seção serão feitas algumas análises do cenário da Covid 19 no Brasil. Assim, algumas perguntas buscarão ser respondidas. São elas:\n",
        "1. Como comparar o Brasil com outros países? Qual métrica utilizar?\n",
        "2. Qual seria o cenário da Covid em nosso país caso as medidas de isolamento não tivessem sido tomadas? Quais métodos devem ser utilizados?\n",
        "3. Qual seráo cenário da Covid no Brasil daqui a 30 dias? E daqui a 6 meses "
      ]
    },
    {
      "cell_type": "markdown",
      "metadata": {
        "id": "sOTToG2F9tg3",
        "colab_type": "text"
      },
      "source": [
        "### **Pré-Processamento dos Dados**"
      ]
    },
    {
      "cell_type": "code",
      "metadata": {
        "id": "ILcpEQcLFWIJ",
        "colab_type": "code",
        "colab": {
          "base_uri": "https://localhost:8080/",
          "height": 487
        },
        "outputId": "25ebd635-90ba-4ac9-8526-80bf2df1e06d"
      },
      "source": [
        "Covid_Activity_Brazil = covid_activity_dataset.iloc[(covid_activity_dataset.COUNTRY_SHORT_NAME == 'Brazil').values, :]\n",
        "Covid_Activity_Brazil.sort_values('REPORT_DATE', ascending=True).head()"
      ],
      "execution_count": 142,
      "outputs": [
        {
          "output_type": "execute_result",
          "data": {
            "text/html": [
              "<div>\n",
              "<style scoped>\n",
              "    .dataframe tbody tr th:only-of-type {\n",
              "        vertical-align: middle;\n",
              "    }\n",
              "\n",
              "    .dataframe tbody tr th {\n",
              "        vertical-align: top;\n",
              "    }\n",
              "\n",
              "    .dataframe thead th {\n",
              "        text-align: right;\n",
              "    }\n",
              "</style>\n",
              "<table border=\"1\" class=\"dataframe\">\n",
              "  <thead>\n",
              "    <tr style=\"text-align: right;\">\n",
              "      <th></th>\n",
              "      <th>COUNTY_NAME</th>\n",
              "      <th>COUNTY_FIPS_NUMBER</th>\n",
              "      <th>PEOPLE_POSITIVE_CASES_COUNT</th>\n",
              "      <th>REPORT_DATE</th>\n",
              "      <th>PROVINCE_STATE_NAME</th>\n",
              "      <th>CONTINENT_NAME</th>\n",
              "      <th>DATA_SOURCE_NAME</th>\n",
              "      <th>PEOPLE_DEATH_NEW_COUNT</th>\n",
              "      <th>COUNTRY_ALPHA_3_CODE</th>\n",
              "      <th>COUNTRY_SHORT_NAME</th>\n",
              "      <th>COUNTRY_ALPHA_2_CODE</th>\n",
              "      <th>PEOPLE_POSITIVE_NEW_CASES_COUNT</th>\n",
              "      <th>PEOPLE_DEATH_COUNT</th>\n",
              "    </tr>\n",
              "  </thead>\n",
              "  <tbody>\n",
              "    <tr>\n",
              "      <th>430359</th>\n",
              "      <td>NaN</td>\n",
              "      <td>NaN</td>\n",
              "      <td>0</td>\n",
              "      <td>2019-12-31</td>\n",
              "      <td>NaN</td>\n",
              "      <td>America</td>\n",
              "      <td>European Centre for Disease Prevention and Con...</td>\n",
              "      <td>0</td>\n",
              "      <td>BRA</td>\n",
              "      <td>Brazil</td>\n",
              "      <td>BR</td>\n",
              "      <td>0</td>\n",
              "      <td>0</td>\n",
              "    </tr>\n",
              "    <tr>\n",
              "      <th>445068</th>\n",
              "      <td>NaN</td>\n",
              "      <td>NaN</td>\n",
              "      <td>0</td>\n",
              "      <td>2020-01-01</td>\n",
              "      <td>NaN</td>\n",
              "      <td>America</td>\n",
              "      <td>European Centre for Disease Prevention and Con...</td>\n",
              "      <td>0</td>\n",
              "      <td>BRA</td>\n",
              "      <td>Brazil</td>\n",
              "      <td>BR</td>\n",
              "      <td>0</td>\n",
              "      <td>0</td>\n",
              "    </tr>\n",
              "    <tr>\n",
              "      <th>451799</th>\n",
              "      <td>NaN</td>\n",
              "      <td>NaN</td>\n",
              "      <td>0</td>\n",
              "      <td>2020-01-02</td>\n",
              "      <td>NaN</td>\n",
              "      <td>America</td>\n",
              "      <td>European Centre for Disease Prevention and Con...</td>\n",
              "      <td>0</td>\n",
              "      <td>BRA</td>\n",
              "      <td>Brazil</td>\n",
              "      <td>BR</td>\n",
              "      <td>0</td>\n",
              "      <td>0</td>\n",
              "    </tr>\n",
              "    <tr>\n",
              "      <th>433027</th>\n",
              "      <td>NaN</td>\n",
              "      <td>NaN</td>\n",
              "      <td>0</td>\n",
              "      <td>2020-01-03</td>\n",
              "      <td>NaN</td>\n",
              "      <td>America</td>\n",
              "      <td>European Centre for Disease Prevention and Con...</td>\n",
              "      <td>0</td>\n",
              "      <td>BRA</td>\n",
              "      <td>Brazil</td>\n",
              "      <td>BR</td>\n",
              "      <td>0</td>\n",
              "      <td>0</td>\n",
              "    </tr>\n",
              "    <tr>\n",
              "      <th>468047</th>\n",
              "      <td>NaN</td>\n",
              "      <td>NaN</td>\n",
              "      <td>0</td>\n",
              "      <td>2020-01-04</td>\n",
              "      <td>NaN</td>\n",
              "      <td>America</td>\n",
              "      <td>European Centre for Disease Prevention and Con...</td>\n",
              "      <td>0</td>\n",
              "      <td>BRA</td>\n",
              "      <td>Brazil</td>\n",
              "      <td>BR</td>\n",
              "      <td>0</td>\n",
              "      <td>0</td>\n",
              "    </tr>\n",
              "  </tbody>\n",
              "</table>\n",
              "</div>"
            ],
            "text/plain": [
              "       COUNTY_NAME  ...  PEOPLE_DEATH_COUNT\n",
              "430359         NaN  ...                   0\n",
              "445068         NaN  ...                   0\n",
              "451799         NaN  ...                   0\n",
              "433027         NaN  ...                   0\n",
              "468047         NaN  ...                   0\n",
              "\n",
              "[5 rows x 13 columns]"
            ]
          },
          "metadata": {
            "tags": []
          },
          "execution_count": 142
        }
      ]
    },
    {
      "cell_type": "markdown",
      "metadata": {
        "id": "SwfYXtwoUYM8",
        "colab_type": "text"
      },
      "source": [
        "Uma medida interessante consiste em retirar algumas Features para obter assim um DataFrame mais enxuto. Features como COUNTY_NAME, COUNTY_FIPS_NUMBER e PROVINCE_STATE_NAME que não contém informação sobre o Brazil, serão retiradas. Features como CONTINENT_NAME, COUNTRY_ALPHA_3_CODE, COUNTRY_SHORT_NAME e COUNTRY_ALPHA_2_CODE não trazem informações relevantes para a nossa anáálise e também serão retiradas."
      ]
    },
    {
      "cell_type": "code",
      "metadata": {
        "id": "5SeNNrXSW_rc",
        "colab_type": "code",
        "colab": {
          "base_uri": "https://localhost:8080/",
          "height": 574
        },
        "outputId": "8252eaed-0d50-4a44-9f26-309517fb0dc8"
      },
      "source": [
        "drop_features = ['COUNTY_NAME', 'COUNTY_FIPS_NUMBER', 'PROVINCE_STATE_NAME', 'CONTINENT_NAME', \n",
        "                 'COUNTRY_ALPHA_3_CODE', 'COUNTRY_SHORT_NAME', 'COUNTRY_ALPHA_2_CODE']\n",
        "Covid_Activity_Brazil.drop(columns=drop_features, inplace=True)\n",
        "Covid_Activity_Brazil.head()"
      ],
      "execution_count": 143,
      "outputs": [
        {
          "output_type": "stream",
          "text": [
            "/usr/local/lib/python3.6/dist-packages/pandas/core/frame.py:3997: SettingWithCopyWarning: \n",
            "A value is trying to be set on a copy of a slice from a DataFrame\n",
            "\n",
            "See the caveats in the documentation: https://pandas.pydata.org/pandas-docs/stable/user_guide/indexing.html#returning-a-view-versus-a-copy\n",
            "  errors=errors,\n"
          ],
          "name": "stderr"
        },
        {
          "output_type": "execute_result",
          "data": {
            "text/html": [
              "<div>\n",
              "<style scoped>\n",
              "    .dataframe tbody tr th:only-of-type {\n",
              "        vertical-align: middle;\n",
              "    }\n",
              "\n",
              "    .dataframe tbody tr th {\n",
              "        vertical-align: top;\n",
              "    }\n",
              "\n",
              "    .dataframe thead th {\n",
              "        text-align: right;\n",
              "    }\n",
              "</style>\n",
              "<table border=\"1\" class=\"dataframe\">\n",
              "  <thead>\n",
              "    <tr style=\"text-align: right;\">\n",
              "      <th></th>\n",
              "      <th>PEOPLE_POSITIVE_CASES_COUNT</th>\n",
              "      <th>REPORT_DATE</th>\n",
              "      <th>DATA_SOURCE_NAME</th>\n",
              "      <th>PEOPLE_DEATH_NEW_COUNT</th>\n",
              "      <th>PEOPLE_POSITIVE_NEW_CASES_COUNT</th>\n",
              "      <th>PEOPLE_DEATH_COUNT</th>\n",
              "    </tr>\n",
              "  </thead>\n",
              "  <tbody>\n",
              "    <tr>\n",
              "      <th>430359</th>\n",
              "      <td>0</td>\n",
              "      <td>2019-12-31</td>\n",
              "      <td>European Centre for Disease Prevention and Con...</td>\n",
              "      <td>0</td>\n",
              "      <td>0</td>\n",
              "      <td>0</td>\n",
              "    </tr>\n",
              "    <tr>\n",
              "      <th>445068</th>\n",
              "      <td>0</td>\n",
              "      <td>2020-01-01</td>\n",
              "      <td>European Centre for Disease Prevention and Con...</td>\n",
              "      <td>0</td>\n",
              "      <td>0</td>\n",
              "      <td>0</td>\n",
              "    </tr>\n",
              "    <tr>\n",
              "      <th>451799</th>\n",
              "      <td>0</td>\n",
              "      <td>2020-01-02</td>\n",
              "      <td>European Centre for Disease Prevention and Con...</td>\n",
              "      <td>0</td>\n",
              "      <td>0</td>\n",
              "      <td>0</td>\n",
              "    </tr>\n",
              "    <tr>\n",
              "      <th>433027</th>\n",
              "      <td>0</td>\n",
              "      <td>2020-01-03</td>\n",
              "      <td>European Centre for Disease Prevention and Con...</td>\n",
              "      <td>0</td>\n",
              "      <td>0</td>\n",
              "      <td>0</td>\n",
              "    </tr>\n",
              "    <tr>\n",
              "      <th>468047</th>\n",
              "      <td>0</td>\n",
              "      <td>2020-01-04</td>\n",
              "      <td>European Centre for Disease Prevention and Con...</td>\n",
              "      <td>0</td>\n",
              "      <td>0</td>\n",
              "      <td>0</td>\n",
              "    </tr>\n",
              "  </tbody>\n",
              "</table>\n",
              "</div>"
            ],
            "text/plain": [
              "        PEOPLE_POSITIVE_CASES_COUNT  ... PEOPLE_DEATH_COUNT\n",
              "430359                            0  ...                  0\n",
              "445068                            0  ...                  0\n",
              "451799                            0  ...                  0\n",
              "433027                            0  ...                  0\n",
              "468047                            0  ...                  0\n",
              "\n",
              "[5 rows x 6 columns]"
            ]
          },
          "metadata": {
            "tags": []
          },
          "execution_count": 143
        }
      ]
    },
    {
      "cell_type": "code",
      "metadata": {
        "id": "cWBWFr28ZAC1",
        "colab_type": "code",
        "colab": {
          "base_uri": "https://localhost:8080/",
          "height": 34
        },
        "outputId": "7ae79e7e-3336-42c2-b90c-64b17b017377"
      },
      "source": [
        "np.unique(Covid_Activity_Brazil.DATA_SOURCE_NAME)"
      ],
      "execution_count": 144,
      "outputs": [
        {
          "output_type": "execute_result",
          "data": {
            "text/plain": [
              "array(['European Centre for Disease Prevention and Control'], dtype=object)"
            ]
          },
          "metadata": {
            "tags": []
          },
          "execution_count": 144
        }
      ]
    },
    {
      "cell_type": "markdown",
      "metadata": {
        "id": "4couc2ctZOza",
        "colab_type": "text"
      },
      "source": [
        "Como os dados brasileiros vem apenas do European Centre for Disease Prevention and Control, a feature DATA_SOURCE_NAME também será retirada."
      ]
    },
    {
      "cell_type": "code",
      "metadata": {
        "id": "GediGldIZlOm",
        "colab_type": "code",
        "colab": {
          "base_uri": "https://localhost:8080/",
          "height": 104
        },
        "outputId": "86b9add0-3952-4096-b67c-d62d12e137ca"
      },
      "source": [
        "Covid_Activity_Brazil.drop(columns=['DATA_SOURCE_NAME'], inplace=True)"
      ],
      "execution_count": 145,
      "outputs": [
        {
          "output_type": "stream",
          "text": [
            "/usr/local/lib/python3.6/dist-packages/pandas/core/frame.py:3997: SettingWithCopyWarning: \n",
            "A value is trying to be set on a copy of a slice from a DataFrame\n",
            "\n",
            "See the caveats in the documentation: https://pandas.pydata.org/pandas-docs/stable/user_guide/indexing.html#returning-a-view-versus-a-copy\n",
            "  errors=errors,\n"
          ],
          "name": "stderr"
        }
      ]
    },
    {
      "cell_type": "markdown",
      "metadata": {
        "id": "rJsInRrTuc70",
        "colab_type": "text"
      },
      "source": [
        "Antes de serem realizadas algumas análises sobre a situação do Covid 19 no Brasil, é importante saber qual base de dados usar: Covid_Activity ou Covid_Cases?\n",
        "\n",
        "Segundo a [descrição](https://data.world/covid-19-data-resource-hub/covid-19-case-counts) das bases de dados, a base Covid_Cases deixou de ser atualizada em 5/6/2020, além de que a base Covid_Activity possui organização melhor, como descrito [neste artigo](https://www.tableau.com/about/blog/2020/5/8-changes-to-covid-19-data-set) publicado no site do Tableu.\n",
        "\n",
        "Porém, como vimos nas seções anteriores, a Base Covid_Cases possui duas Features interessantes para a análise da doença: People_Hospitalized_Cumulative_Count e People_Total_Tested_Count, porém estes dados estão disponíveis apenas para os Estados Unidos, como pode ser visto no código abaixo.\n",
        "\n",
        "Portanto, dadas as vantagens da base Covid_Activity, usaremos ela para as análises que serão realizadas posteriormente."
      ]
    },
    {
      "cell_type": "code",
      "metadata": {
        "id": "SP9pOtWNy8L8",
        "colab_type": "code",
        "colab": {
          "base_uri": "https://localhost:8080/",
          "height": 34
        },
        "outputId": "f7ded185-522b-4eb1-f456-04df49302010"
      },
      "source": [
        "#Foi selecionado os dados do covid referentes ao Brasil\n",
        "covid_cases_brasil = covid_cases_dataset.iloc[(covid_cases_dataset.Combined_Key == 'Brazil').values, :]\n",
        "\n",
        "#Foram selecionadas as Features People_Hospitalized_Cumulative_Count e  People_Total_Tested_Count;\n",
        "#Foram verificados os valores únicos que existiam nessas features. Após isso, foi verificado se todos os valores\n",
        "#retornados era nan. O valor 1 indica que todos eram 1;\n",
        "np.prod(np.isnan(np.unique(covid_cases_brasil[['People_Hospitalized_Cumulative_Count', 'People_Total_Tested_Count']])))"
      ],
      "execution_count": 146,
      "outputs": [
        {
          "output_type": "execute_result",
          "data": {
            "text/plain": [
              "1"
            ]
          },
          "metadata": {
            "tags": []
          },
          "execution_count": 146
        }
      ]
    },
    {
      "cell_type": "markdown",
      "metadata": {
        "id": "fI7X3STR2D3g",
        "colab_type": "text"
      },
      "source": [
        "## **Evolução do número de casos no Brasil**"
      ]
    },
    {
      "cell_type": "code",
      "metadata": {
        "id": "758ncrs62JKe",
        "colab_type": "code",
        "colab": {
          "base_uri": "https://localhost:8080/",
          "height": 225
        },
        "outputId": "0ab8f5d5-623f-4c00-a962-9272dc83adc7"
      },
      "source": [
        "Covid_Activity_Brazil.info()"
      ],
      "execution_count": 147,
      "outputs": [
        {
          "output_type": "stream",
          "text": [
            "<class 'pandas.core.frame.DataFrame'>\n",
            "Int64Index: 170 entries, 430359 to 485356\n",
            "Data columns (total 5 columns):\n",
            " #   Column                           Non-Null Count  Dtype         \n",
            "---  ------                           --------------  -----         \n",
            " 0   PEOPLE_POSITIVE_CASES_COUNT      170 non-null    int64         \n",
            " 1   REPORT_DATE                      170 non-null    datetime64[ns]\n",
            " 2   PEOPLE_DEATH_NEW_COUNT           170 non-null    int64         \n",
            " 3   PEOPLE_POSITIVE_NEW_CASES_COUNT  170 non-null    int64         \n",
            " 4   PEOPLE_DEATH_COUNT               170 non-null    int64         \n",
            "dtypes: datetime64[ns](1), int64(4)\n",
            "memory usage: 8.0 KB\n"
          ],
          "name": "stdout"
        }
      ]
    },
    {
      "cell_type": "markdown",
      "metadata": {
        "id": "LUfT7suk3SMX",
        "colab_type": "text"
      },
      "source": [
        "Aqui vemos que não temos nenhum dado faltante em nossa base de dados do Brasil. Assim, não precisaremos aplicar nenhuma técnica para reposição dos dados."
      ]
    },
    {
      "cell_type": "code",
      "metadata": {
        "id": "79AAdpOl7G_E",
        "colab_type": "code",
        "colab": {}
      },
      "source": [
        "Covid_Activity_Brazil = Covid_Activity_Brazil.set_index('REPORT_DATE')"
      ],
      "execution_count": 148,
      "outputs": []
    },
    {
      "cell_type": "code",
      "metadata": {
        "id": "tA89s_zTd0pH",
        "colab_type": "code",
        "colab": {}
      },
      "source": [
        "monday_2020 = np.arange(datetime(2020,1,6), datetime(2020,6,20), timedelta(days=7))\n",
        "Covid_Activity_Brazil_monday = Covid_Activity_Brazil.loc[monday_2020]"
      ],
      "execution_count": 149,
      "outputs": []
    },
    {
      "cell_type": "code",
      "metadata": {
        "id": "nxnG85ms6frH",
        "colab_type": "code",
        "colab": {
          "base_uri": "https://localhost:8080/",
          "height": 540
        },
        "outputId": "e35c04e9-ea4f-4324-e846-490b07b4d5b0"
      },
      "source": [
        "plt.figure(figsize=(17, 8.5))\n",
        "plt.subplots_adjust(hspace=0.05, wspace=0.115)\n",
        "\n",
        "#Casos Totais\n",
        "plt.subplot(211)\n",
        "_=plt.title('Evolução do número de casos no Brasil')\n",
        "plt.plot(Covid_Activity_Brazil.index, Covid_Activity_Brazil.PEOPLE_POSITIVE_CASES_COUNT)\n",
        "plt.xticks([])\n",
        "_=plt.ylabel('Cumulativo')\n",
        "\n",
        "\n",
        "#Casos Diários\n",
        "plt.subplot(212)\n",
        "plt.plot(Covid_Activity_Brazil.index, Covid_Activity_Brazil.PEOPLE_POSITIVE_NEW_CASES_COUNT, label='Casos Diários')\n",
        "#Calculando a tendência para os casos diários de covid\n",
        "covid_activity_weekly_rooling = Covid_Activity_Brazil['PEOPLE_POSITIVE_NEW_CASES_COUNT'].rolling(window = 7, center = True).mean()\n",
        "plt.plot(covid_activity_weekly_rooling, label='Tendência calculada por Rooling Semanal')\n",
        "plt.scatter(Covid_Activity_Brazil_monday.index, Covid_Activity_Brazil_monday.PEOPLE_POSITIVE_NEW_CASES_COUNT, c='red', label='Casos diagnosticados aos domingos')\n",
        "plt.legend()\n",
        "_=plt.xlabel('Data')\n",
        "_=plt.ylabel('Casos Diários')"
      ],
      "execution_count": 150,
      "outputs": [
        {
          "output_type": "display_data",
          "data": {
            "image/png": "[encoded data removed]",
            "text/plain": [
              "<Figure size 1224x612 with 2 Axes>"
            ]
          },
          "metadata": {
            "tags": [],
            "needs_background": "light"
          }
        }
      ]
    },
    {
      "cell_type": "code",
      "metadata": {
        "id": "lJlsUj3Vq3tn",
        "colab_type": "code",
        "colab": {
          "base_uri": "https://localhost:8080/",
          "height": 34
        },
        "outputId": "23a425c3-8ee1-4f38-af67-250e3cf8b63a"
      },
      "source": [
        "first_case_Brazil = Covid_Activity_Brazil.iloc[(Covid_Activity_Brazil.PEOPLE_POSITIVE_CASES_COUNT==1).values, :]\n",
        "\n",
        "print(\"Primeiro Caso de Covid: \" + str(first_case_Brazil.index[0].date()))"
      ],
      "execution_count": 151,
      "outputs": [
        {
          "output_type": "stream",
          "text": [
            "Primeiro Caso de Covid: 2020-02-26\n"
          ],
          "name": "stdout"
        }
      ]
    },
    {
      "cell_type": "code",
      "metadata": {
        "id": "5d0VUQPVtHb3",
        "colab_type": "code",
        "colab": {
          "base_uri": "https://localhost:8080/",
          "height": 34
        },
        "outputId": "2a750b6b-00f0-4438-8e3d-dece16bf6a7a"
      },
      "source": [
        "total_number_cases = Covid_Activity_Brazil.PEOPLE_POSITIVE_CASES_COUNT.sort_values(ascending=False)\n",
        "print(\"Número total de casos no Brasil (17/6/2020): \" + str(total_number_cases[0]))"
      ],
      "execution_count": 152,
      "outputs": [
        {
          "output_type": "stream",
          "text": [
            "Número total de casos no Brasil (17/6/2020): 923189\n"
          ],
          "name": "stdout"
        }
      ]
    },
    {
      "cell_type": "code",
      "metadata": {
        "id": "41pn5fvuu7z8",
        "colab_type": "code",
        "colab": {
          "base_uri": "https://localhost:8080/",
          "height": 34
        },
        "outputId": "88e6055e-0331-4e21-9f76-7fbea9e8b1b0"
      },
      "source": [
        "maximum_number_cases = np.amax(Covid_Activity_Brazil.PEOPLE_POSITIVE_NEW_CASES_COUNT)\n",
        "date_maximum_case_Brazil = Covid_Activity_Brazil.iloc[(Covid_Activity_Brazil.PEOPLE_POSITIVE_NEW_CASES_COUNT==maximum_number_cases).values, :].index\n",
        "print(\"O número máximo de casos diários no Brasil foi de \" + str(maximum_number_cases) + \" e ocorreu em \" + \n",
        "      str(date_maximum_case_Brazil[0].date()))"
      ],
      "execution_count": 153,
      "outputs": [
        {
          "output_type": "stream",
          "text": [
            "O número máximo de casos diários no Brasil foi de 34918 e ocorreu em 2020-06-17\n"
          ],
          "name": "stdout"
        }
      ]
    },
    {
      "cell_type": "markdown",
      "metadata": {
        "id": "apGHHh2Uj_PX",
        "colab_type": "text"
      },
      "source": [
        "## **Evolução do número de mortes no Brasil**"
      ]
    },
    {
      "cell_type": "code",
      "metadata": {
        "colab_type": "code",
        "id": "PjJEI7x-kMcW",
        "colab": {
          "base_uri": "https://localhost:8080/",
          "height": 540
        },
        "outputId": "1d9231b8-b5a4-4973-a69b-3604fb2b9ce5"
      },
      "source": [
        "plt.figure(figsize=(17, 8.5))\n",
        "plt.subplots_adjust(hspace=0.05, wspace=0.115)\n",
        "\n",
        "#Mortes Totais\n",
        "plt.subplot(211)\n",
        "_=plt.title('Evolução do número de mortes no Brasil')\n",
        "plt.plot(Covid_Activity_Brazil.index, Covid_Activity_Brazil.PEOPLE_DEATH_COUNT)\n",
        "plt.xticks([])\n",
        "_=plt.ylabel('Cumulativo')\n",
        "\n",
        "#Mortes Diárias\n",
        "plt.subplot(212)\n",
        "plt.plot(Covid_Activity_Brazil.index, Covid_Activity_Brazil.PEOPLE_DEATH_NEW_COUNT, label='Mortes Diários')\n",
        "#Calculando a tendência para os casos diários de covid\n",
        "covid_activity_weekly_rooling = Covid_Activity_Brazil['PEOPLE_DEATH_NEW_COUNT'].rolling(window = 7, center = True).mean()\n",
        "plt.plot(covid_activity_weekly_rooling, label='Tendência calculada por Rooling Semanal')\n",
        "plt.scatter(Covid_Activity_Brazil_monday.index, Covid_Activity_Brazil_monday.PEOPLE_DEATH_NEW_COUNT, c='red', label='Mortes diagnosticados aos domingos')\n",
        "plt.legend()\n",
        "_=plt.xlabel('Data')\n",
        "_=plt.ylabel('Mortes Diários')"
      ],
      "execution_count": 154,
      "outputs": [
        {
          "output_type": "display_data",
          "data": {
            "image/png": "[encoded data removed]",
            "text/plain": [
              "<Figure size 1224x612 with 2 Axes>"
            ]
          },
          "metadata": {
            "tags": [],
            "needs_background": "light"
          }
        }
      ]
    },
    {
      "cell_type": "code",
      "metadata": {
        "id": "oHgZ1nGiBPd4",
        "colab_type": "code",
        "colab": {
          "base_uri": "https://localhost:8080/",
          "height": 34
        },
        "outputId": "bec9e7f9-5f7f-47b9-e06f-27c30a19b63d"
      },
      "source": [
        "first_death_Brazil = Covid_Activity_Brazil.iloc[(Covid_Activity_Brazil.PEOPLE_DEATH_COUNT==1).values, :]\n",
        "\n",
        "print(\"Primeira Morte de Covid: \" + str(first_death_Brazil.index[0].date()))"
      ],
      "execution_count": 155,
      "outputs": [
        {
          "output_type": "stream",
          "text": [
            "Primeira Morte de Covid: 2020-03-18\n"
          ],
          "name": "stdout"
        }
      ]
    },
    {
      "cell_type": "code",
      "metadata": {
        "id": "ACJ0UCsWCxTA",
        "colab_type": "code",
        "colab": {
          "base_uri": "https://localhost:8080/",
          "height": 34
        },
        "outputId": "5f768dc0-f0a0-4985-e094-95051da72fd9"
      },
      "source": [
        "total_number_deaths = Covid_Activity_Brazil.PEOPLE_DEATH_COUNT.sort_values(ascending=False)\n",
        "print(\"Número total de mortes no Brasil (12/6/2020): \" + str(total_number_deaths[0]))"
      ],
      "execution_count": 156,
      "outputs": [
        {
          "output_type": "stream",
          "text": [
            "Número total de mortes no Brasil (12/6/2020): 45241\n"
          ],
          "name": "stdout"
        }
      ]
    },
    {
      "cell_type": "code",
      "metadata": {
        "id": "CYEZtLKeDFbH",
        "colab_type": "code",
        "colab": {
          "base_uri": "https://localhost:8080/",
          "height": 34
        },
        "outputId": "e51d7329-8c69-433d-c347-3af5ffd70b0d"
      },
      "source": [
        "maximum_number_deaths = np.amax(Covid_Activity_Brazil.PEOPLE_DEATH_NEW_COUNT)\n",
        "date_maximum_death_Brazil = Covid_Activity_Brazil.iloc[(Covid_Activity_Brazil.PEOPLE_DEATH_NEW_COUNT==maximum_number_deaths).values, :].index\n",
        "print(\"O número máximo de mortes diárias no Brasil foi de \" + str(maximum_number_deaths) + \" e ocorreu em \" + \n",
        "      str(date_maximum_death_Brazil[0].date()))"
      ],
      "execution_count": 157,
      "outputs": [
        {
          "output_type": "stream",
          "text": [
            "O número máximo de mortes diárias no Brasil foi de 1473 e ocorreu em 2020-06-05\n"
          ],
          "name": "stdout"
        }
      ]
    },
    {
      "cell_type": "markdown",
      "metadata": {
        "id": "DlciHaTPmWSi",
        "colab_type": "text"
      },
      "source": [
        "#### **Comentários**\n",
        "\n",
        "A partir das informações e visualizações extraídas acima, é possível afirmar algumas coisas:\n",
        "1. Até o dia (17/6/2020) tivemos 923189 casos e 45241 mortes decorrentes da Covid 19;\n",
        "2. O primeiro caso da Covid 19 ocorreu em 2020-02-26, já a primeira morte em 2020-03-18;\n",
        "3. O número máximo de casos diários no Brasil foi de 34918 e ocorreu em 2020-06-17, já o número máximo de mortes diárias no Brasil foi de 1473 e ocorreu em 2020-06-05.\n",
        "4. Sobre a evolução da doença no país, podemos dizer que estamos passando pelo pico da curva tanto do número de casos como do número de mortes, o que indica que se continuadas as mesmas condições atuais, nas próximas semanas teremos uma diminuição do número diário desses indicadores, bem como uma diminuição da velocidade de crescimento do cumulativo dos mesmos.\n",
        "5. Também é possível ver que existe uma oscilação periódica tanto no número de casos quanto no número de mortos. Esta oscilação ocorre na divulgação dos números às Segundas-Feiras, que corresponde aos dados dos Domingos, onde provavelmente temos um número menor de profissionais e materiais disponíveis para a realização e publicação dos testes."
      ]
    },
    {
      "cell_type": "markdown",
      "metadata": {
        "id": "pj3XbE3ypmNQ",
        "colab_type": "text"
      },
      "source": [
        "## **Comparação do Brasil com outros países**"
      ]
    },
    {
      "cell_type": "markdown",
      "metadata": {
        "id": "K5mLYAbeszlR",
        "colab_type": "text"
      },
      "source": [
        "Em uma comparação de qualquer natureza se faz necessário um processamento dos dados para que todas as entradas estejam sendo representadas nas mesmas condições. Assim, para compararmos a situação da Covid19 no Brasil, deve-se utilizar de alguns critérios e aplicá-los de forma igual aos países que serão comparados. \n",
        "\n",
        "Para tal podemos utilizar os seguintes critérios:\n",
        "1. Normalização dos dados pela população. Apesar de não eliminar totalmente as diferenças, o tamanho da população dos países é um importante indicador da **potencial** quantidade de casos e mortes, **dadas outras condições**. Para esta normalização utilizaremos os dados fornecidos pelo [Banco Mundial](https://data.worldbank.org/country/).\n",
        "2. Utilizar uma comparação entre os casos após o primeiro caso. Para que tenhamos uma comparação mais precisa, é necessário que tenhamos uma escala de tempo similar para a pandemia em cada um dos países.\n",
        "\n",
        "**Observações**\n",
        "\n",
        "1. No critério 1, para uma avaliação mais precisa se faz necessária uma análise levando em consideração estruturas menores como estados e municípios, assim não levaríamos em conta somente a população total do país, mas também a densidade populacional por região. Tal critério se faz relevante devido ao fato de que mesmo em países grandes, a população pode estar concentrada em regiões pequenas. Assim, ao se observar apenas a densidade populacional total, teria-se a impressão de a densidade populacional é baixa, quando na verdade ela é o contrário. Entretanto, como a nossa base de dados fornece os dados do covid apenas para os estados e municípios americanos, iremos limitar a nossa comparação apenas a uma normalização da população do país.\n",
        "2. Em ambos os critérios, para uma comparação mais justa, seria interessante levar em consideração uma normalização pela quantidade de testes, afinal, quanto mais testes realizados, maior a probabilidade de se detectar casos e mortes. Entretanto, devido a ausência destes dados, não iremos incluí-los em nossa comparação.  "
      ]
    },
    {
      "cell_type": "code",
      "metadata": {
        "id": "9TI5-ER9pqwk",
        "colab_type": "code",
        "colab": {}
      },
      "source": [
        "population = {'Brazil':209469333, 'United States':326687501, 'United Kingdom':66460344, 'Italy':60421760, 'Spain':46796540, \n",
        "              'Germany':82905782, 'Argentina':44494502, 'Colombia':49648685, 'Chile':18792160}\n",
        "population_df = pd.DataFrame(population, index=np.array([0]))"
      ],
      "execution_count": 158,
      "outputs": []
    },
    {
      "cell_type": "code",
      "metadata": {
        "id": "uyiooecS4Y7V",
        "colab_type": "code",
        "colab": {
          "base_uri": "https://localhost:8080/",
          "height": 513
        },
        "outputId": "21b32841-6d82-46ab-bec9-2b0c618e9bad"
      },
      "source": [
        "plt.figure(figsize=(15, 8))\n",
        "for i in population_df.columns:\n",
        "  country_df = covid_activity_dataset.iloc[(covid_activity_dataset.COUNTRY_SHORT_NAME==i).values, :]\n",
        "  country_df = country_df.set_index('REPORT_DATE')\n",
        "  first_case = country_df.iloc[(country_df.PEOPLE_POSITIVE_CASES_COUNT>=1).values, :]\n",
        "  first_case = first_case.index.values[0]\n",
        "  #days_2020 = np.arange(first_case, datetime(2020, 6, 13), timedelta(days=1))\n",
        "  index_x = country_df.iloc[(country_df.index >= first_case), :].index.unique()\n",
        "  x = np.arange(len(index_x))\n",
        "  y = country_df.loc[index_x.values, 'PEOPLE_POSITIVE_CASES_COUNT']\n",
        "  y = y.sort_index()\n",
        "  y = (y.groupby(level=0).sum()/population_df[i].values)*100000\n",
        "  \n",
        "  plt.plot(x, y, label=i)\n",
        "plt.legend()\n",
        "_=plt.xlabel('Número de dias após o primeiro caso')\n",
        "_=plt.ylabel('Número de casos por 100 mil habitantes')\n",
        "_=plt.title('Comparativo entre o número de casos dos países')"
      ],
      "execution_count": 159,
      "outputs": [
        {
          "output_type": "display_data",
          "data": {
            "image/png": "[encoded data removed]",
            "text/plain": [
              "<Figure size 1080x576 with 1 Axes>"
            ]
          },
          "metadata": {
            "tags": [],
            "needs_background": "light"
          }
        }
      ]
    },
    {
      "cell_type": "markdown",
      "metadata": {
        "id": "-WnCgCzUROgV",
        "colab_type": "text"
      },
      "source": [
        "**Comentários**\n",
        "\n",
        "Nesta comparação de cenários da pandemia, foram comparados os seguintes países:\n",
        "1. Alemanha \n",
        "2. Argentina\n",
        "3. Brasil\n",
        "4. Chile\n",
        "5. Colômbia\n",
        "6. Espanha\n",
        "7. Estados Unidos\n",
        "8. Itália\n",
        "9. Reino Unido\n",
        "\n",
        "A partir do gráfico acima, podemos constatar algumas coisas:\n",
        "1. A partir dos dados fornecidos podemos ver que devido alguns países terem o primeiro caso da Covid 19 sendo diagnosticado mais tarde, a quantidade de dados difere entre eles;\n",
        "2. Dentre as condições e os países utilizados na comparação é possível ver que o Chile é aquele que está na pior situação. Ao contrário do Chile, a Argentina encontra-se na melhor situação. Já o Brasil encontra-se na 4 colocação;\n",
        "3.  Na comparação feita também é possível ver que 3 países já estão numa fase de estabilização do número de casos. São eles: Alemanha, Espanha e Itália.\n",
        "4. O Brasil ainda não chegou nesta fase, porém pudemos ver nas análises anteriores, que dadas as condições atuais, o país deve começar a entrar nessa fase nas próximas semanas;"
      ]
    },
    {
      "cell_type": "markdown",
      "metadata": {
        "id": "Y3mxj_nMllaU",
        "colab_type": "text"
      },
      "source": [
        "## **Criação de um modelo para predição do número de casos e de mortes**"
      ]
    },
    {
      "cell_type": "markdown",
      "metadata": {
        "id": "RSeHvCoK5vdL",
        "colab_type": "text"
      },
      "source": [
        "Nesta seção iremos tentar criar um modelo que consiga predizer com um grau aceitável de acurácia o número de casos e de mortes decorrentes do Covid 19 no Brasil. Para tal, serão utilizados todos os dados disponíveis da pandemia em nosso país.\n",
        "\n",
        "Antes de levantarmos hipóteses sobre como modelar esse fenômeno, temos que fazer algumas considerações:\n",
        "1. Devido a nossa base de dados não ser completamente representativa do fenômeno real do Covid19, não podemos aplicar algoritmos de Machine Learning que não fazem nenhuma hipótese sobre os dados. Para aplicá-los se faz necessário um conjunto maior de features que representassem o fenômeno, tais como: Densidade demográfica por região e idade média da população. Assim, algoritmos como KNN, MLP e Random Forest estão descartados.\n",
        "2. Dado o comportamento das curvas visto nas seções anteriores, podemos inferir que tanto que a curva do número de mortes quanto a curva do número de casos tem um comportamento similar ao de uma curva sigmoidal, assim curvas que tem esse comportamento podem ser utilizadas para modelagem.\n",
        "\n",
        "Assim, utilizaremos as seguintes hipóteses para modelar o fenômeno:\n",
        "1. Função Sigmóide;\n",
        "2. Função Tangente Hiperbólico;"
      ]
    },
    {
      "cell_type": "markdown",
      "metadata": {
        "id": "9NPQZAqetpjB",
        "colab_type": "text"
      },
      "source": [
        "### **Previsão para o número de casos**"
      ]
    },
    {
      "cell_type": "markdown",
      "metadata": {
        "id": "2W3Xu4F-Bx1F",
        "colab_type": "text"
      },
      "source": [
        "#### **Sigmóide**"
      ]
    },
    {
      "cell_type": "code",
      "metadata": {
        "id": "3Knj1TE8lYaa",
        "colab_type": "code",
        "colab": {}
      },
      "source": [
        "def sigmoid(x, L, x0, k, b):\n",
        "    y = L / (1 + np.exp(-k*(x-x0)))+b\n",
        "    return (y)"
      ],
      "execution_count": 160,
      "outputs": []
    },
    {
      "cell_type": "code",
      "metadata": {
        "id": "rIQQg4ccnjPA",
        "colab_type": "code",
        "colab": {}
      },
      "source": [
        "X = np.arange(len(Covid_Activity_Brazil.index))\n",
        "Y = Covid_Activity_Brazil.PEOPLE_POSITIVE_CASES_COUNT.values"
      ],
      "execution_count": 161,
      "outputs": []
    },
    {
      "cell_type": "code",
      "metadata": {
        "id": "RR9Gx6jmmk6D",
        "colab_type": "code",
        "colab": {}
      },
      "source": [
        "constraints = [[1300000, len(X), 0, -np.inf], [2000000, len(X)+60, 1, np.inf]]\n",
        "popt_sig_cases, pcov_sig_cases = curve_fit(sigmoid, X, Y, bounds=constraints)"
      ],
      "execution_count": 162,
      "outputs": []
    },
    {
      "cell_type": "code",
      "metadata": {
        "id": "MQKslI7SoJwR",
        "colab_type": "code",
        "colab": {
          "base_uri": "https://localhost:8080/",
          "height": 295
        },
        "outputId": "8622c491-b829-4f7b-edff-6d8bc95f7c0e"
      },
      "source": [
        "X_new = np.arange(len(X)+180)\n",
        "plt.plot(X_new, sigmoid(X_new, *popt_sig_cases), label='Modelo para previsão')\n",
        "plt.plot(X, Y, label='Dados Atuais')\n",
        "plt.legend()\n",
        "_=plt.ylabel('Quantidade de Casos')\n",
        "_=plt.xlabel('Data')\n",
        "_=plt.title('Modelo Sigmoidal calculado e os Casos atuais')"
      ],
      "execution_count": 163,
      "outputs": [
        {
          "output_type": "display_data",
          "data": {
            "image/png": "[encoded data removed]",
            "text/plain": [
              "<Figure size 432x288 with 1 Axes>"
            ]
          },
          "metadata": {
            "tags": [],
            "needs_background": "light"
          }
        }
      ]
    },
    {
      "cell_type": "code",
      "metadata": {
        "id": "yT8z_FoxvUGJ",
        "colab_type": "code",
        "colab": {
          "base_uri": "https://localhost:8080/",
          "height": 34
        },
        "outputId": "adab28ed-0a25-40ee-bde3-c2b5e4869181"
      },
      "source": [
        "X_new = np.arange(len(X))\n",
        "Y_model = sigmoid(X_new, *popt_sig_cases)\n",
        "\n",
        "std_sig_cases = np.round(np.std(Y_model-Y))\n",
        "print(\"O modelo Sigmoidal calculado tem uma precisão de mais ou menos \" + str(np.round(std_sig_cases)) + \" casos.\")"
      ],
      "execution_count": 164,
      "outputs": [
        {
          "output_type": "stream",
          "text": [
            "O modelo Sigmoidal calculado tem uma precisão de mais ou menos 28908.0 casos.\n"
          ],
          "name": "stdout"
        }
      ]
    },
    {
      "cell_type": "markdown",
      "metadata": {
        "id": "mWmUxxcBCNXY",
        "colab_type": "text"
      },
      "source": [
        "#### **Tangente Hiperbólico**"
      ]
    },
    {
      "cell_type": "code",
      "metadata": {
        "id": "OLj_Y06zCWME",
        "colab_type": "code",
        "colab": {}
      },
      "source": [
        "def tanh(x, L ,x0, k, b):\n",
        "    y = L*(np.exp(k*(x-x0))-np.exp(-k*(x-x0)))/ (np.exp(k*(x-x0)) + np.exp(-k*(x-x0)))+b\n",
        "    return (y)"
      ],
      "execution_count": 165,
      "outputs": []
    },
    {
      "cell_type": "code",
      "metadata": {
        "id": "tGwZgz5wCvjn",
        "colab_type": "code",
        "colab": {}
      },
      "source": [
        "X = np.arange(len(Covid_Activity_Brazil.index))\n",
        "Y = Covid_Activity_Brazil.PEOPLE_POSITIVE_CASES_COUNT.values"
      ],
      "execution_count": 166,
      "outputs": []
    },
    {
      "cell_type": "code",
      "metadata": {
        "id": "TsvGqrXRCyWE",
        "colab_type": "code",
        "colab": {}
      },
      "source": [
        "constraints = [[750000, len(X), 0, -np.inf], [2000000, len(X)+60, 1, np.inf]]\n",
        "popt_tanh_cases, pcov_tanh_cases = curve_fit(tanh, X, Y, bounds=constraints)"
      ],
      "execution_count": 167,
      "outputs": []
    },
    {
      "cell_type": "code",
      "metadata": {
        "id": "t7bVgvKVC22P",
        "colab_type": "code",
        "colab": {
          "base_uri": "https://localhost:8080/",
          "height": 295
        },
        "outputId": "81209b47-7108-4b34-c821-7f4bf05366af"
      },
      "source": [
        "X_new = np.arange(len(X)+180)\n",
        "plt.plot(X_new, tanh(X_new, *popt_tanh_cases), label='Modelo para previsão')\n",
        "plt.plot(X, Y, label='Dados Atuais')\n",
        "plt.legend()\n",
        "_=plt.ylabel('Quantidade de Casos')\n",
        "_=plt.xlabel('Data')\n",
        "_=plt.title('Modelo Tanh calculado e os Casos atuais')"
      ],
      "execution_count": 168,
      "outputs": [
        {
          "output_type": "display_data",
          "data": {
            "image/png": "[encoded data removed]",
            "text/plain": [
              "<Figure size 432x288 with 1 Axes>"
            ]
          },
          "metadata": {
            "tags": [],
            "needs_background": "light"
          }
        }
      ]
    },
    {
      "cell_type": "code",
      "metadata": {
        "id": "Qa45UkrWC8En",
        "colab_type": "code",
        "colab": {
          "base_uri": "https://localhost:8080/",
          "height": 34
        },
        "outputId": "b094cb81-ea8c-4ef8-d5fe-705eac16dbda"
      },
      "source": [
        "X_new = np.arange(len(X))\n",
        "Y_model = tanh(X_new, *popt_tanh_cases)\n",
        "\n",
        "#mse = np.sqrt((np.sum(np.square(Y_model - Y_actual)))/len(X_new))\n",
        "std_tanh_cases = np.round(np.std(Y_model-Y))\n",
        "print(\"O modelo Tanh calculado tem uma precisão de mais ou menos \" + str(np.round(std_tanh_cases)) + \" casos.\")"
      ],
      "execution_count": 169,
      "outputs": [
        {
          "output_type": "stream",
          "text": [
            "O modelo Tanh calculado tem uma precisão de mais ou menos 6205.0 casos.\n"
          ],
          "name": "stdout"
        }
      ]
    },
    {
      "cell_type": "markdown",
      "metadata": {
        "id": "Ejq-hnC3t3DI",
        "colab_type": "text"
      },
      "source": [
        "### **Previsão para o número de mortes**"
      ]
    },
    {
      "cell_type": "markdown",
      "metadata": {
        "id": "4CU0XDgnD5Mn",
        "colab_type": "text"
      },
      "source": [
        "#### **Sigmóide**"
      ]
    },
    {
      "cell_type": "code",
      "metadata": {
        "id": "EEJnC7JRtkHp",
        "colab_type": "code",
        "colab": {}
      },
      "source": [
        "X = np.arange(len(Covid_Activity_Brazil.index))\n",
        "Y = Covid_Activity_Brazil.PEOPLE_DEATH_COUNT.values"
      ],
      "execution_count": 170,
      "outputs": []
    },
    {
      "cell_type": "code",
      "metadata": {
        "id": "yDDa8fy-uA1_",
        "colab_type": "code",
        "colab": {}
      },
      "source": [
        "constraints = [[-250000, len(X), -1, -np.inf], [-68000, len(X)+60, 0, np.inf]]\n",
        "popt_sig_deaths, pcov_sig_deaths = curve_fit(sigmoid, X, Y, bounds=constraints)"
      ],
      "execution_count": 171,
      "outputs": []
    },
    {
      "cell_type": "code",
      "metadata": {
        "id": "b1i4g-fhuI6R",
        "colab_type": "code",
        "colab": {
          "base_uri": "https://localhost:8080/",
          "height": 295
        },
        "outputId": "a964af18-1e29-48ce-979d-22fac49d864d"
      },
      "source": [
        "X_new = np.arange(len(X)+180)\n",
        "plt.plot(X_new, sigmoid(X_new, *popt_sig_deaths), label='Modelo para previsão')\n",
        "plt.plot(X, Covid_Activity_Brazil.PEOPLE_DEATH_COUNT, label='Dados Atuais')\n",
        "plt.legend()\n",
        "_=plt.ylabel('Quantidade de Mortes')\n",
        "_=plt.xlabel('Data')\n",
        "_=plt.title('Modelo Sigmoidal calculado e as Mortes atuais')"
      ],
      "execution_count": 172,
      "outputs": [
        {
          "output_type": "display_data",
          "data": {
            "image/png": "[encoded data removed]",
            "text/plain": [
              "<Figure size 432x288 with 1 Axes>"
            ]
          },
          "metadata": {
            "tags": [],
            "needs_background": "light"
          }
        }
      ]
    },
    {
      "cell_type": "code",
      "metadata": {
        "id": "NGlPsxgny5kF",
        "colab_type": "code",
        "colab": {
          "base_uri": "https://localhost:8080/",
          "height": 34
        },
        "outputId": "31f6e7a9-d726-493f-a868-1b94af953342"
      },
      "source": [
        "X_new = np.arange(len(Covid_Activity_Brazil.index))\n",
        "Y_model = sigmoid(X_new, *popt_sig_deaths)\n",
        "Y_actual = Covid_Activity_Brazil.PEOPLE_DEATH_COUNT\n",
        "\n",
        "std_sig_deaths = np.round(np.std(Y_model-Y_actual))\n",
        "print(\"O modelo Sigmoidal calculado tem uma precisão de mais ou menos \" + str(np.round(std_sig_deaths)) + \" mortes.\")"
      ],
      "execution_count": 173,
      "outputs": [
        {
          "output_type": "stream",
          "text": [
            "O modelo Sigmoidal calculado tem uma precisão de mais ou menos 816.0 mortes.\n"
          ],
          "name": "stdout"
        }
      ]
    },
    {
      "cell_type": "markdown",
      "metadata": {
        "id": "xC4ZcmNSEBLT",
        "colab_type": "text"
      },
      "source": [
        "#### **Tangente Hiperbólico**"
      ]
    },
    {
      "cell_type": "code",
      "metadata": {
        "id": "KFOq3_ObEYBh",
        "colab_type": "code",
        "colab": {}
      },
      "source": [
        "X = np.arange(len(Covid_Activity_Brazil.index))\n",
        "Y = Covid_Activity_Brazil.PEOPLE_DEATH_COUNT.values"
      ],
      "execution_count": 174,
      "outputs": []
    },
    {
      "cell_type": "code",
      "metadata": {
        "id": "CcmlnNJpESYD",
        "colab_type": "code",
        "colab": {}
      },
      "source": [
        "constraints = [[20000, len(X), 0, 20000], [100000, len(X)+60, 1, 100000]]\n",
        "popt_tanh_deaths, pcov_tanh_deaths = curve_fit(tanh, X, Y, bounds=constraints)"
      ],
      "execution_count": 175,
      "outputs": []
    },
    {
      "cell_type": "code",
      "metadata": {
        "id": "VsbhfMk2EbX0",
        "colab_type": "code",
        "colab": {
          "base_uri": "https://localhost:8080/",
          "height": 295
        },
        "outputId": "aeb5141f-fc2b-4d8e-ef13-0c2fe8d17854"
      },
      "source": [
        "X_new = np.arange(len(X)+180)\n",
        "plt.plot(X_new, tanh(X_new, *popt_tanh_deaths), label='Modelo para previsão')\n",
        "plt.plot(X, Covid_Activity_Brazil.PEOPLE_DEATH_COUNT, label='Dados Atuais')\n",
        "plt.legend()\n",
        "_=plt.ylabel('Quantidade de Mortes')\n",
        "_=plt.xlabel('Data')\n",
        "_=plt.title('Modelo calculado e as Mortes atuais')"
      ],
      "execution_count": 176,
      "outputs": [
        {
          "output_type": "display_data",
          "data": {
            "image/png": "[encoded data removed]",
            "text/plain": [
              "<Figure size 432x288 with 1 Axes>"
            ]
          },
          "metadata": {
            "tags": [],
            "needs_background": "light"
          }
        }
      ]
    },
    {
      "cell_type": "code",
      "metadata": {
        "id": "F_IAtKdCEyfy",
        "colab_type": "code",
        "colab": {
          "base_uri": "https://localhost:8080/",
          "height": 34
        },
        "outputId": "2fc61804-3cdd-4450-8a7c-46261b428fc6"
      },
      "source": [
        "X_new = np.arange(len(Covid_Activity_Brazil.index))\n",
        "Y_model = tanh(X_new, *popt_tanh_deaths)\n",
        "Y_actual = Covid_Activity_Brazil.PEOPLE_DEATH_COUNT\n",
        "\n",
        "std_tanh_deaths = np.round(np.std(Y_model-Y_actual))\n",
        "print(\"O modelo Tanh calculado tem uma precisão de mais ou menos \" + str(np.round(std_tanh_deaths)) + \" mortes.\")"
      ],
      "execution_count": 177,
      "outputs": [
        {
          "output_type": "stream",
          "text": [
            "O modelo Tanh calculado tem uma precisão de mais ou menos 816.0 mortes.\n"
          ],
          "name": "stdout"
        }
      ]
    },
    {
      "cell_type": "markdown",
      "metadata": {
        "id": "9CIqT7BSrSoO",
        "colab_type": "text"
      },
      "source": [
        "### **Conclusões destas predições**\n",
        "\n",
        "Podemos ver que ambos os modelos performaram de maneira similar, entretanto, como os modelos utilizando função Sigmóide possuem o comportamento dos seus parâmetros mais bem definido, ou seja, a variação entre o formato da curva e a variação dos valores dos parâmetros são mais facilmente entendidos, eles serão utilizados para a predição do cenário da Covid daqui a 30 e 180 dias contados a partir do dia 10/6/2020."
      ]
    },
    {
      "cell_type": "markdown",
      "metadata": {
        "id": "qMQ143hxsM0D",
        "colab_type": "text"
      },
      "source": [
        "Durante o fitting do modelo, codificamos as datas como sendo um array contendo as o número de dias desde 31/12/2019, que foi o primeiro dia encontrado na nossa base de dados. Assim o dia 31/12/2019 é codificado como 0, 1/1/2020 como 1, e assim por diante.\n",
        "\n",
        "Como codificamos o dia 17/6/2020, como o tamanho do nosso array menos 1, tomaremos esta data como base para o nosso cálculo."
      ]
    },
    {
      "cell_type": "code",
      "metadata": {
        "id": "0feQIR6FrW9S",
        "colab_type": "code",
        "colab": {}
      },
      "source": [
        "predict_cases_30 = np.round(sigmoid(len(X)-1-7+30, *popt_sig_cases))\n",
        "predict_cases_180 = np.round(sigmoid(len(X)-1-7+180, *popt_sig_cases))\n",
        "predict_deaths_30 = np.round(sigmoid(len(X)-1-7+30, *popt_sig_deaths))\n",
        "predict_deaths_180 = np.round(sigmoid(len(X)-1-7+180, *popt_sig_deaths))"
      ],
      "execution_count": 178,
      "outputs": []
    },
    {
      "cell_type": "code",
      "metadata": {
        "id": "pGTbXsxvtr5N",
        "colab_type": "code",
        "colab": {
          "base_uri": "https://localhost:8080/",
          "height": 86
        },
        "outputId": "9611f43b-42c5-4c3b-899f-06ee19b899af"
      },
      "source": [
        "print('A previsão do número de casos para 30 dias é: ' + str(predict_cases_30) + ' variando ' + str(std_tanh_cases) + ' para mais ou para menos')\n",
        "print('A previsão do número de mortes para 30 dias é: ' + str(predict_deaths_30) + ' variando ' + str(std_tanh_deaths) + ' para mais ou para menos')\n",
        "print('A previsão do número de casos para 180 dias é: ' + str(predict_cases_180) + ' variando ' + str(std_tanh_cases) + ' para mais ou para menos')\n",
        "print('A previsão do número de mortos para 180 dias é: ' + str(predict_deaths_180) + ' variando ' + str(std_tanh_deaths) + ' para mais ou para menos')"
      ],
      "execution_count": 179,
      "outputs": [
        {
          "output_type": "stream",
          "text": [
            "A previsão do número de casos para 30 dias é: 1295450.0 variando 6205.0 para mais ou para menos\n",
            "A previsão do número de mortes para 30 dias é: 75291.0 variando 816.0 para mais ou para menos\n",
            "A previsão do número de casos para 180 dias é: 1687064.0 variando 6205.0 para mais ou para menos\n",
            "A previsão do número de mortos para 180 dias é: 98915.0 variando 816.0 para mais ou para menos\n"
          ],
          "name": "stdout"
        }
      ]
    },
    {
      "cell_type": "markdown",
      "metadata": {
        "id": "OzotaNoB0or8",
        "colab_type": "text"
      },
      "source": [
        "### **Comentários**\n",
        "\n",
        "Como podemos ver, a predição deste fenômeno não depende somente dos dados, mas também depende dos parâmetros utilizados durante a otimização. Em testes feitos anteriormente, caso modelassemos esse fenômeno como um problema de otimização sem restrição, a predição do número de mortos estabilizaria para a casa dos 53 mil mortos, algo que sem dúvidas não condiz com a realidade. Assim, ajustamos os valores dos limites inferiores e superiores com base em alguns modelos epidemiológicos, como o descrito [nesta notícia](https://www1.folha.uol.com.br/equilibrioesaude/2020/05/modelo-usado-pela-casa-branca-aumenta-para-125-mil-projecao-de-mortes-por-covid-19-no-brasil-ate-agosto.shtml), onde estão previstos entre 68 mil e 221 mil até agosto, assim, ajustamos os limites de L para valores mais razoáveis. Portanto, algumas considerações podem ser feitas:\n",
        "1. O modelo não depende apenas dos dados, entretanto, uma quantidade maior de dados, sem dúvidas resulta em uma melhor qualidade do modelo;\n",
        "2. Para a seleção dos limites inferiores e superiores é necessário conhecimento epidemiológico para a escolha de valores condizentes com a realidade."
      ]
    },
    {
      "cell_type": "markdown",
      "metadata": {
        "id": "PXXBJfzhFn6n",
        "colab_type": "text"
      },
      "source": [
        "## **Previsão para a pandemia no Brasil caso as medidas de isolamento não tivessem sido aplicadas**"
      ]
    },
    {
      "cell_type": "markdown",
      "metadata": {
        "id": "GLp7YRPsG-sw",
        "colab_type": "text"
      },
      "source": [
        "Antes de propormos um modelo para essas condições, algumas considerações se fazem necessárias:\n",
        "1. Quando observamos a curva do número total de casos vemos que ela tem um caráter similar ao de uma exponencial e isso pode nos levar a crer que o seu crescimento se deu na mesma velocidade durante todo o período de tempo. Entretanto, quando observamos esses gráficos em escala logarítimica, percebemos que o comportamento da subida da curva varia com o tempo, indicando uma desaceleração na mesma. Para entendermos melhor esse fenômeno, observe que nas curvas abaixo foram plotadas 3 curvas com diferentes velocidades de crescimento, onde quanto mais para cima, a curva logarítimica indica um crescimento mais rápido da exponencial. Portanto, ao observar as curvas logarítimicas (ver curvas abaixo das curvas das exponenciais), percebe-se que ao longo do tempo, a sua inclinação se torna menor, indicando que a velocidade de crescimento da curva está diminuindo, o que como consequência indica uma efetividade das medidas de isolamento."
      ]
    },
    {
      "cell_type": "code",
      "metadata": {
        "id": "RF6_PYsc_QKM",
        "colab_type": "code",
        "colab": {
          "base_uri": "https://localhost:8080/",
          "height": 540
        },
        "outputId": "6ffd1da6-7df8-4a06-fe89-72a052664a6b"
      },
      "source": [
        "x = np.linspace(start=0, stop=10, num=100)\n",
        "\n",
        "y1 = np.exp(x)\n",
        "y2 = np.exp(1.1*x)\n",
        "y3 = np.exp(1.3*x)\n",
        "\n",
        "plt.figure(figsize=(15, 8.5))\n",
        "\n",
        "plt.subplot(211)\n",
        "plt.title('Observação da relação da curva logarítimica com a velocidade de crescimento da exponencial')\n",
        "plt.plot(x, y1)\n",
        "plt.plot(x, y2)\n",
        "plt.plot(x, y3)\n",
        "\n",
        "plt.subplot(212)\n",
        "plt.plot(x, np.log(y1+1))\n",
        "plt.plot(x, np.log(y2+1))\n",
        "plt.plot(x, np.log(y3+1))\n",
        "_=plt.xlabel('X')"
      ],
      "execution_count": 180,
      "outputs": [
        {
          "output_type": "display_data",
          "data": {
            "image/png": "[encoded data removed]",
            "text/plain": [
              "<Figure size 1080x612 with 2 Axes>"
            ]
          },
          "metadata": {
            "tags": [],
            "needs_background": "light"
          }
        }
      ]
    },
    {
      "cell_type": "code",
      "metadata": {
        "id": "U2af8rtlMDtE",
        "colab_type": "code",
        "colab": {
          "base_uri": "https://localhost:8080/",
          "height": 540
        },
        "outputId": "ecb6a780-1baf-414e-ed58-3dd8f87620d2"
      },
      "source": [
        "plt.figure(figsize=(15, 8.5))\n",
        "plt.subplots_adjust(hspace=0.05, wspace=0.115)\n",
        "\n",
        "plt.subplot(221)\n",
        "plt.plot(Covid_Activity_Brazil.index, np.log(Covid_Activity_Brazil.PEOPLE_DEATH_COUNT+1))\n",
        "_=plt.ylabel('Cumulativo')\n",
        "plt.title('Evolução do número de mortes em escala logarítimica')\n",
        "plt.xticks([])\n",
        "\n",
        "plt.subplot(223)\n",
        "plt.plot(Covid_Activity_Brazil.index, np.log(Covid_Activity_Brazil.PEOPLE_DEATH_NEW_COUNT+1), label='Mortes Diários')\n",
        "covid_activity_weekly_rooling_log = np.log(Covid_Activity_Brazil['PEOPLE_DEATH_NEW_COUNT']+1).rolling(window = 7, center = True).mean()\n",
        "plt.plot(covid_activity_weekly_rooling_log, label='Tendência calculada por Rooling Semanal')\n",
        "plt.legend()\n",
        "_=plt.ylabel('Diário')\n",
        "_=plt.xlabel('Data')\n",
        "\n",
        "plt.subplot(222)\n",
        "plt.plot(Covid_Activity_Brazil.index, np.log(Covid_Activity_Brazil.PEOPLE_POSITIVE_CASES_COUNT+1))\n",
        "plt.title('Evolução do número de casos em escala logarítimica')\n",
        "plt.xticks([])\n",
        "\n",
        "plt.subplot(224)\n",
        "plt.plot(Covid_Activity_Brazil.index, np.log(Covid_Activity_Brazil.PEOPLE_POSITIVE_NEW_CASES_COUNT+1), label='Casos Diários')\n",
        "covid_activity_weekly_rooling_log = np.log(Covid_Activity_Brazil['PEOPLE_POSITIVE_NEW_CASES_COUNT']+1).rolling(window = 7, center = True).mean()\n",
        "plt.plot(covid_activity_weekly_rooling_log, label='Tendência calculada por Rooling Semanal')\n",
        "plt.legend()\n",
        "_=plt.xlabel('Data')"
      ],
      "execution_count": 181,
      "outputs": [
        {
          "output_type": "display_data",
          "data": {
            "image/png": "[encoded data removed]",
            "text/plain": [
              "<Figure size 1080x612 with 4 Axes>"
            ]
          },
          "metadata": {
            "tags": [],
            "needs_background": "light"
          }
        }
      ]
    },
    {
      "cell_type": "markdown",
      "metadata": {
        "id": "kZ_mNi9qRkTc",
        "colab_type": "text"
      },
      "source": [
        "Para modelarmos um possível cenário da pandemia sem as medidas de isolamento, utilizaremos as mesmas hipóteses descritas na seção anterior, porém utilizando os dados até o primeiro dia anterior ao início do isolamento. Assim, utilizaremos os dados até o dia 16 de março, visto que no dia [17 o isolamento começou na maior parte do país](https://exame.com/brasil/periodo-de-isolamento-comeca-a-valer-nesta-terca-no-estado-de-sao-paulo/). Em uma análise mais correta, seriam considerados mais dias, visto que o vírus demora um certo tempo para ter algum efeito, porém como esses dados ainda não estão sendo divulgados com precisão, consideramos apenas até esta data."
      ]
    },
    {
      "cell_type": "markdown",
      "metadata": {
        "id": "G9t9SSUfSrVd",
        "colab_type": "text"
      },
      "source": [
        "### **Número de casos**"
      ]
    },
    {
      "cell_type": "markdown",
      "metadata": {
        "id": "w4CDPrKYSwJw",
        "colab_type": "text"
      },
      "source": [
        "#### **Sigmóide**"
      ]
    },
    {
      "cell_type": "code",
      "metadata": {
        "id": "YFYSTJxeS0c4",
        "colab_type": "code",
        "colab": {}
      },
      "source": [
        "def sigmoid(x, L ,x0, k, b):\n",
        "    y = L / (1 + np.exp(-k*(x-x0)))+b\n",
        "    return (y)"
      ],
      "execution_count": 182,
      "outputs": []
    },
    {
      "cell_type": "code",
      "metadata": {
        "id": "rOArCBU6S_VT",
        "colab_type": "code",
        "colab": {}
      },
      "source": [
        "index_X = Covid_Activity_Brazil.loc[(Covid_Activity_Brazil.index < datetime(2020, 3, 17)), :].index\n",
        "X = np.arange(len(index_X.values))\n",
        "Y = Covid_Activity_Brazil.loc[index_X, :].PEOPLE_POSITIVE_CASES_COUNT.values"
      ],
      "execution_count": 183,
      "outputs": []
    },
    {
      "cell_type": "code",
      "metadata": {
        "id": "aFiqS7ZVTuLm",
        "colab_type": "code",
        "colab": {}
      },
      "source": [
        "constraints = [[2000000, len(X), 0, -np.inf], [3500000, len(X)+60, 1, np.inf]]\n",
        "popt, pcov = curve_fit(sigmoid, X, Y, bounds=[popt_sig_cases, np.inf],  maxfev=10000)"
      ],
      "execution_count": 184,
      "outputs": []
    },
    {
      "cell_type": "code",
      "metadata": {
        "id": "lEyM_dcMUyCs",
        "colab_type": "code",
        "colab": {
          "base_uri": "https://localhost:8080/",
          "height": 295
        },
        "outputId": "9c8634ae-2bb4-4965-f034-8ba94e7bc19a"
      },
      "source": [
        "X_new = np.arange(len(X)+90)\n",
        "plt.plot(X_new, sigmoid(X_new, *popt), label='Modelo para previsão')\n",
        "plt.plot(X, Y, label='Dados Atuais')\n",
        "plt.legend()\n",
        "_=plt.ylabel('Quantidade de Casos')\n",
        "_=plt.xlabel('Data')\n",
        "_=plt.title('Modelo Sigmoidal calculado e os Casos atuais')"
      ],
      "execution_count": 185,
      "outputs": [
        {
          "output_type": "display_data",
          "data": {
            "image/png": "[encoded data removed]",
            "text/plain": [
              "<Figure size 432x288 with 1 Axes>"
            ]
          },
          "metadata": {
            "tags": [],
            "needs_background": "light"
          }
        }
      ]
    },
    {
      "cell_type": "markdown",
      "metadata": {
        "id": "MHpzvWxbX5k4",
        "colab_type": "text"
      },
      "source": [
        "#### **Tangente Hiperbólico**"
      ]
    },
    {
      "cell_type": "code",
      "metadata": {
        "id": "ZqIt8aLbX-N5",
        "colab_type": "code",
        "colab": {}
      },
      "source": [
        "def tanh(x, L ,x0, k, b):\n",
        "    y = L*(np.exp(k*(x-x0))-np.exp(-k*(x-x0)))/ (np.exp(k*(x-x0)) + np.exp(-k*(x-x0)))+b\n",
        "    return (y)"
      ],
      "execution_count": 186,
      "outputs": []
    },
    {
      "cell_type": "code",
      "metadata": {
        "id": "lgUNq-S_YGnj",
        "colab_type": "code",
        "colab": {}
      },
      "source": [
        "constraints = [[40000, len(X), 0, 40000], [300000, len(X)+60, 1, 300000]]\n",
        "popt_tanh_cases, pcov_tanh_cases = curve_fit(tanh, X, Y, bounds=constraints, maxfev=10000)"
      ],
      "execution_count": 187,
      "outputs": []
    },
    {
      "cell_type": "code",
      "metadata": {
        "id": "WMdTLKo8YmV0",
        "colab_type": "code",
        "colab": {
          "base_uri": "https://localhost:8080/",
          "height": 295
        },
        "outputId": "7dd97ccd-94e4-444f-89a7-a587ed4f544e"
      },
      "source": [
        "X_new = np.arange(len(X)+180)\n",
        "plt.plot(X_new, tanh(X_new, *popt_tanh_cases), label='Modelo para previsão')\n",
        "plt.plot(X, Y, label='Dados Atuais')\n",
        "plt.legend()\n",
        "_=plt.ylabel('Quantidade de Casos')\n",
        "_=plt.xlabel('Data')\n",
        "_=plt.title('Modelo Tanh calculado e os Casos atuais')"
      ],
      "execution_count": 188,
      "outputs": [
        {
          "output_type": "display_data",
          "data": {
            "image/png": "[encoded data removed]",
            "text/plain": [
              "<Figure size 432x288 with 1 Axes>"
            ]
          },
          "metadata": {
            "tags": [],
            "needs_background": "light"
          }
        }
      ]
    },
    {
      "cell_type": "markdown",
      "metadata": {
        "id": "08Fumo0TZaWp",
        "colab_type": "text"
      },
      "source": [
        "### **Número de Mortes**"
      ]
    },
    {
      "cell_type": "markdown",
      "metadata": {
        "id": "nPQ9twnyfK4B",
        "colab_type": "text"
      },
      "source": [
        "Como vimos anteriormente, a primeira morte ocorrida no Brasil aconteceu após o início do isolamento, então não temos dados suficientes realizar essa predição utilizando esses modelos. Assim, para a modelagem desse fenômeno temos que utilizar modelos epidemiológicos."
      ]
    },
    {
      "cell_type": "markdown",
      "metadata": {
        "id": "mjWCX3w8gMHw",
        "colab_type": "text"
      },
      "source": [
        "### **Conclusões acerca das previsões com condições pré-isolamento**"
      ]
    },
    {
      "cell_type": "markdown",
      "metadata": {
        "id": "JMHuKlhKglZR",
        "colab_type": "text"
      },
      "source": [
        "Como vimos anteriormente, as predições para o Brasil dadas as condições pré-isolamento não obtiveram uma acurácia adequada. Isso se deve ao fato de que utilizamos modelos que dependem dos dados para o cálculo dos seus parâmetros. Além disso, a única consideração que fizemos diz respeito apenas a forma da curva. Assim, como a disponibilidade de dados é baixa (ou inexistente como no caso das mortes), não é possível a obtenção dessa previsão por meio da utilização desses modelos.\n",
        "\n",
        "Entretanto, é possível obter predições dessa natureza por meio de modelos epidemiológicos. [Nesta página](https://www.cdc.gov/coronavirus/2019-ncov/covid-data/forecasting-us.html) desnvolvida pelo CDC (*Centers for Disease Control and Prevention*) podemos encontrar um conjunto de predições feitas por universidades americanas, onde dentre as metodologias utilizadas destaca-se a [SEIR, que é uma variação do modelo SIR](https://towardsdatascience.com/infectious-disease-modelling-beyond-the-basic-sir-model-216369c584c4). A explicação detalhada desses modelos está fora do escopo desse texto, porém em resumo podemos dizer que esses modelos separam a população em compartimentos, neste caso em:\n",
        "* Suscetíveis a serem infectados;\n",
        "* Infectados;\n",
        "* Recuperados;\n",
        "\n",
        "Assim, utilizando de um conjunto de parâmetros como, grau de contágio, número de dias que o infectado pode espalhar a doença, entre outros, calcula-se as variações diárias entre esses compartimentos das populações e assim modela-se o fenômeno epidemiológico, para uma descrição deste procedimento, favor [ver este artigo](https://towardsdatascience.com/infectious-disease-modelling-part-i-understanding-sir-28d60e29fdfc). "
      ]
    }
  ]
}